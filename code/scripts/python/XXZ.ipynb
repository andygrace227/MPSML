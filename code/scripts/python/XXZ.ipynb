{
 "cells": [
  {
   "cell_type": "markdown",
   "metadata": {},
   "source": [
    "# XXZ Spin chain with many-body localization transition \n",
    "\n",
    "As a second example of a spin model, we choose the XXZ model below. In contrast the the transverse Ising model where we have looked at a quantum phase transition in the spin order, here we will investigate the many-body localization transition as a function of disoder. Models with MBL transitions have become increasing attractive with recent experimental developements. Cold atom systems, trapped ions, superconducting qubits and new quantum engineered materials all offer ways to actually realize MBL phases. \n",
    "\n",
    "The model\n",
    "\n",
    "$$ H = \\frac{J_{\\perp}}{2} \\sum_{i=0}^{N-1} \\left( \\sigma_i^x \\sigma_{i+1}^x + \\sigma_i^y \\sigma_{i+1}^y \\right) + \\sum_{i=0}^{N-1} \\left(\\frac{J_{\\parallel}}{2} \\sigma_i^z \\sigma_{i+1}^z + h^z_i \\sigma_i^z \\right) $$\n",
    "\n",
    "There are three energy scales in the problem, but due to computational constraints, we need to fix some. We choose to fix the couplings $J_1$ and $J_2$. In this case the critical disorder strength is known to be around $g_c \\approx 3.5$.\n",
    "\n",
    "The local fields $h^z_i$ are set to a random number on the interval $[W,W]$ \n",
    "\n",
    "The operators are understood to be the $N$-fold product of the spin space\n",
    "\n",
    "$$ \\sigma_i = \\mathbf{1} \\otimes ... \\otimes \\sigma \\otimes \\mathbf{1} ... \\otimes \\mathbf{1} $$"
   ]
  },
  {
   "cell_type": "code",
   "execution_count": 1,
   "metadata": {},
   "outputs": [],
   "source": [
    "import matplotlib.pyplot as plt\n",
    "import numpy as np\n",
    "from random import seed, uniform\n",
    "from qutip import *\n",
    "import sys\n",
    "import os"
   ]
  },
  {
   "cell_type": "markdown",
   "metadata": {},
   "source": [
    "### Define the functions to construct the energy operator"
   ]
  },
  {
   "cell_type": "code",
   "execution_count": 2,
   "metadata": {},
   "outputs": [],
   "source": [
    "def transverse(N, site):\n",
    "    op = []\n",
    "    \n",
    "    for i in range(N):\n",
    "        op.append(qeye(2))\n",
    "        \n",
    "    op[site] = sigmax()\n",
    "    \n",
    "    return tensor(op)\n",
    "\n",
    "def longitudinal(N, site):\n",
    "    op = []\n",
    "    \n",
    "    for i in range(N):\n",
    "        op.append(qeye(2))\n",
    "        \n",
    "    op[site] = sigmaz()\n",
    "    \n",
    "    return tensor(op)\n",
    "\n",
    "def surface(N, site):\n",
    "    op = []\n",
    "    \n",
    "    for i in range(N):\n",
    "        op.append(qeye(2))\n",
    "        \n",
    "    op[site] = sigmay()\n",
    "    \n",
    "    return tensor(op)\n",
    "\n",
    "def perp_coupling(N, site):\n",
    "    if (site == N-1):\n",
    "        return transverse(N,site) * transverse(N, 0) + surface(N,site) * surface(N,0) \n",
    "    else:\n",
    "        return transverse(N,site) * transverse(N, site+1) + surface(N,site) * surface(N, site+1)\n",
    "    \n",
    "def para_coupling(N, site):\n",
    "    if (site == N-1):\n",
    "        return longitudinal(N,site) * longitudinal(N, 0)\n",
    "    else:\n",
    "        return longitudinal(N,site) * longitudinal(N, site+1)\n",
    "\n",
    "def H(N, W, Jpara, Jperp):\n",
    "    term1 = perp_coupling(N, 0) \n",
    "    term2 = para_coupling(N, 0)\n",
    "    term3 = uniform(-W, W) * longitudinal(N, 0)\n",
    "       \n",
    "    for site in range(1, N):\n",
    "        term1 += perp_coupling(N,site)\n",
    "        term2 += para_coupling(N,site)\n",
    "        term3 += uniform(-W/2, W/2) * longitudinal(N,site)\n",
    "    \n",
    "    return (Jperp/N) * term1 + (Jpara/N) * term2 + term3"
   ]
  },
  {
   "cell_type": "code",
   "execution_count": 3,
   "metadata": {},
   "outputs": [],
   "source": [
    "#plt.spy(H(6,1,1,1).full())\n",
    "#plt.show()"
   ]
  },
  {
   "cell_type": "code",
   "execution_count": 4,
   "metadata": {},
   "outputs": [],
   "source": [
    "def mag(N):\n",
    "    tmp = longitudinal(N, 0)\n",
    "    for site in range(1, N):\n",
    "        tmp += longitudinal(N,site)\n",
    "    return 0.5 * tmp"
   ]
  },
  {
   "cell_type": "markdown",
   "metadata": {},
   "source": [
    "## Now define functions returning the parts of the dataset to be written to file"
   ]
  },
  {
   "cell_type": "code",
   "execution_count": 5,
   "metadata": {},
   "outputs": [],
   "source": [
    "def disorder_coupling_meshgrid(W_min, W_max, W_instances, W_realizations, Jpara_min, Jpara_max, nJpara):\n",
    "    \n",
    "    mat = np.zeros((W_instances*nJpara, 2), np.float64)\n",
    "    \n",
    "    if W_instances%W_realizations != 0:\n",
    "        print(\"INCREASE INSTANCES OR DECREASE DISORDER REALIZATIONS\")\n",
    "        raise KeyboardInterrupt\n",
    "\n",
    "    Ws = np.linspace(W_min, W_max, W_instances/W_realizations)\n",
    "    Js = np.linspace(Jpara_min, Jpara_max, nJpara)\n",
    "\n",
    "    c = 0\n",
    "    for W in Ws:\n",
    "        for realization in range(W_realizations):\n",
    "            for J in Js:\n",
    "                mat[c, :] = W,J\n",
    "                c += 1\n",
    "            \n",
    "    np.random.shuffle(mat)\n",
    "    return mat"
   ]
  },
  {
   "cell_type": "code",
   "execution_count": 6,
   "metadata": {},
   "outputs": [],
   "source": [
    "def groundstate_wavefunction_from_qutip(qutip_groundstate_object):\n",
    "    return qutip_groundstate_object[1].full().real.flatten()\n",
    "\n",
    "def groundstate_eigenenergy_from_qutip(qutip_groundstate_object):\n",
    "    return qutip_groundstate_object[0].real\n",
    "\n",
    "def values_array_from_qutip_hamiltonian(qutip_hamiltonian):\n",
    "    tmp = qutip_hamiltonian.full().real\n",
    "    dim = qutip_hamiltonian.shape[0]\n",
    "    iu1 = np.triu_indices(dim)\n",
    "    return tmp[iu1][np.nonzero(tmp[iu1])]\n",
    "    \n",
    "def locations_array_from_qutip_hamiltonian(qutip_hamiltonian):\n",
    "    tmp = qutip_hamiltonian.full().real\n",
    "    dim = qutip_hamiltonian.shape[0]\n",
    "    iu1 = np.triu_indices(dim)\n",
    "    return np.nonzero(tmp[iu1])[0]\n",
    "\n",
    "def flattened_hams_gsvecs_and_enes_on_meshgrid(N, J, meshgrid):\n",
    "    instances = np.size(meshgrid,0)\n",
    "    dim = 2**N\n",
    "    nnz = len(values_array_from_qutip_hamiltonian(H(N, 0.5, 1, 1)))\n",
    "    \n",
    "    vecs = np.empty((instances, dim), np.float64)\n",
    "    enes = np.empty((instances, 1), np.float64)\n",
    "    matval = np.empty((instances, nnz), np.float64)\n",
    "    matloc = np.empty((instances, nnz), np.int32)\n",
    "    \n",
    "    for i in range(instances):  \n",
    "        ham = H(N, meshgrid[i,0], meshgrid[i,1], J)\n",
    "        gs = ham.groundstate()\n",
    "        vecs[i,:] = groundstate_wavefunction_from_qutip(gs)\n",
    "        enes[i,:] = groundstate_eigenenergy_from_qutip(gs)\n",
    "        matval[i,:] = values_array_from_qutip_hamiltonian(ham)\n",
    "        matloc[i,:] = locations_array_from_qutip_hamiltonian(ham)\n",
    "        \n",
    "    return matval.flatten(),matloc.flatten(),vecs.flatten(),enes.flatten()\n",
    "\n",
    "def write_data(N, J, meshgrid, dir_prefix):\n",
    "    instances = np.size(meshgrid,0)\n",
    "    dim = 2**N\n",
    "    nnz = len(values_array_from_qutip_hamiltonian(H(N, 0.5, 1, 1)))\n",
    "    \n",
    "    header = np.array([instances, nnz, dim], np.int32)\n",
    "    fields = meshgrid[:,0].flatten()\n",
    "    \n",
    "    if not os.path.exists(dir_prefix):\n",
    "        os.makedirs(dir_prefix)\n",
    "    \n",
    "    header_path = f\"{dir_prefix}header.bin\"\n",
    "    fields_path = f\"{dir_prefix}fields.bin\"\n",
    "    matval_path = f\"{dir_prefix}matval.bin\"\n",
    "    matloc_path = f\"{dir_prefix}matloc.bin\"\n",
    "    wavefx_path = f\"{dir_prefix}wavefx.bin\"\n",
    "    energy_path = f\"{dir_prefix}energy.bin\"\n",
    "\n",
    "    matval,matloc,wavefx,energy = flattened_hams_gsvecs_and_enes_on_meshgrid(N, J, meshgrid)\n",
    "    \n",
    "    with open(header_path, 'wb') as file:\n",
    "        header.tofile(file)\n",
    "    \n",
    "    with open(fields_path, 'wb') as file:\n",
    "        fields.tofile(file)\n",
    "\n",
    "    with open(matval_path, 'wb') as file:\n",
    "        matval.tofile(file)\n",
    "    \n",
    "    with open(matloc_path, 'wb') as file:\n",
    "        matloc.tofile(file)\n",
    "        \n",
    "    with open(wavefx_path, 'wb') as file:\n",
    "        wavefx.tofile(file)\n",
    "        \n",
    "    with open(energy_path, 'wb') as file:\n",
    "        energy.tofile(file)\n",
    "        \n",
    "def get_dataset(dir_prefix):\n",
    "    with open(dir_prefix + \"header.bin\", 'rb') as file:\n",
    "        header = np.fromfile(file, dtype=np.int32)\n",
    "    \n",
    "    with open(dir_prefix + \"matloc.bin\", 'rb') as file:\n",
    "        matloc = np.fromfile(file, dtype=np.int32)\n",
    "    \n",
    "    with open(dir_prefix + \"matval.bin\", 'rb') as file:\n",
    "        matval = np.fromfile(file, dtype=np.float64)\n",
    "    \n",
    "    with open(dir_prefix + \"wavefx.bin\", 'rb') as file:\n",
    "        wavefx = np.fromfile(file, dtype=np.float64)\n",
    "        \n",
    "    with open(dir_prefix + \"energy.bin\", 'rb') as file:\n",
    "        energy = np.fromfile(file, dtype=np.float64)\n",
    "        \n",
    "    with open(dir_prefix + \"fields.bin\", 'rb') as file:\n",
    "        fields = np.fromfile(file, dtype=np.float64)\n",
    "        \n",
    "    return header,fields,matloc,matval,wavefx,energy\n",
    "\n",
    "def reconstructed_hamiltonian(instance, header, matval, matloc):\n",
    "    nnz = header[1]\n",
    "    dim = header[2]\n",
    "    ham = np.zeros((dim,dim))\n",
    "    uta = np.zeros(int(dim*(dim+1)/2))\n",
    "    lb = instance*nnz\n",
    "    \n",
    "    for i in range(nnz):\n",
    "        uta[matloc[i + lb]] = matval[i + lb]\n",
    "\n",
    "    k = 0\n",
    "    for i in range(dim):\n",
    "        for j in range(i,dim):\n",
    "            ham[i,j] = uta[k]\n",
    "            ham[j,i] = uta[k]\n",
    "            k += 1\n",
    "        \n",
    "    return ham"
   ]
  },
  {
   "cell_type": "code",
   "execution_count": 17,
   "metadata": {},
   "outputs": [],
   "source": [
    "root = \"/home/csingh5/Documents/Guided-Machine-Learning/code/chris/data/input/\"\n",
    "header,fields,matloc,matval,wavefx,energy = get_dataset(root + \"Ising/10-qubits/40k-instances/dual-phase/training/\")"
   ]
  },
  {
   "cell_type": "code",
   "execution_count": 15,
   "metadata": {},
   "outputs": [
    {
     "data": {
      "text/plain": [
       "-1.0100248757727754"
      ]
     },
     "execution_count": 15,
     "metadata": {},
     "output_type": "execute_result"
    }
   ],
   "source": [
    "energy.max()"
   ]
  },
  {
   "cell_type": "code",
   "execution_count": 16,
   "metadata": {},
   "outputs": [
    {
     "data": {
      "text/plain": [
       "-2.1273632550773818"
      ]
     },
     "execution_count": 16,
     "metadata": {},
     "output_type": "execute_result"
    }
   ],
   "source": [
    "energy.min()"
   ]
  },
  {
   "cell_type": "code",
   "execution_count": 19,
   "metadata": {},
   "outputs": [
    {
     "data": {
      "image/png": "[encoded data removed]",
      "text/plain": [
       "<Figure size 432x288 with 1 Axes>"
      ]
     },
     "metadata": {},
     "output_type": "display_data"
    }
   ],
   "source": [
    "plt.scatter(fields, energy)\n",
    "plt.show()"
   ]
  },
  {
   "cell_type": "code",
   "execution_count": 6,
   "metadata": {},
   "outputs": [
    {
     "name": "stdout",
     "output_type": "stream",
     "text": [
      "finished: /home/csingh5/Documents/Guided-Machine-Learning/code/chris/data/input/XXZ/-f-qubits/40k-instances/single-phase/training/ 28000\n",
      "finished: /home/csingh5/Documents/Guided-Machine-Learning/code/chris/data/input/XXZ/-f-qubits/40k-instances/single-phase/validation/ 8000\n",
      "finished: /home/csingh5/Documents/Guided-Machine-Learning/code/chris/data/input/XXZ/-f-qubits/40k-instances/single-phase/testing/ 4000\n",
      "finished: /home/csingh5/Documents/Guided-Machine-Learning/code/chris/data/input/XXZ/-f-qubits/40k-instances/dual-phase/training/ 28000\n",
      "finished: /home/csingh5/Documents/Guided-Machine-Learning/code/chris/data/input/XXZ/-f-qubits/40k-instances/dual-phase/validation/ 8000\n",
      "finished: /home/csingh5/Documents/Guided-Machine-Learning/code/chris/data/input/XXZ/-f-qubits/40k-instances/dual-phase/testing/ 4000\n",
      "finished: /home/csingh5/Documents/Guided-Machine-Learning/code/chris/data/input/XXZ/-f-qubits/60k-instances/single-phase/training/ 42000\n",
      "finished: /home/csingh5/Documents/Guided-Machine-Learning/code/chris/data/input/XXZ/-f-qubits/60k-instances/single-phase/validation/ 12000\n",
      "finished: /home/csingh5/Documents/Guided-Machine-Learning/code/chris/data/input/XXZ/-f-qubits/60k-instances/single-phase/testing/ 6000\n",
      "finished: /home/csingh5/Documents/Guided-Machine-Learning/code/chris/data/input/XXZ/-f-qubits/60k-instances/dual-phase/training/ 42000\n",
      "finished: /home/csingh5/Documents/Guided-Machine-Learning/code/chris/data/input/XXZ/-f-qubits/60k-instances/dual-phase/validation/ 12000\n",
      "finished: /home/csingh5/Documents/Guided-Machine-Learning/code/chris/data/input/XXZ/-f-qubits/60k-instances/dual-phase/testing/ 6000\n",
      "finished: /home/csingh5/Documents/Guided-Machine-Learning/code/chris/data/input/XXZ/-f-qubits/80k-instances/single-phase/training/ 56000\n",
      "finished: /home/csingh5/Documents/Guided-Machine-Learning/code/chris/data/input/XXZ/-f-qubits/80k-instances/single-phase/validation/ 16000\n",
      "finished: /home/csingh5/Documents/Guided-Machine-Learning/code/chris/data/input/XXZ/-f-qubits/80k-instances/single-phase/testing/ 8000\n",
      "finished: /home/csingh5/Documents/Guided-Machine-Learning/code/chris/data/input/XXZ/-f-qubits/80k-instances/dual-phase/training/ 56000\n",
      "finished: /home/csingh5/Documents/Guided-Machine-Learning/code/chris/data/input/XXZ/-f-qubits/80k-instances/dual-phase/validation/ 16000\n",
      "finished: /home/csingh5/Documents/Guided-Machine-Learning/code/chris/data/input/XXZ/-f-qubits/80k-instances/dual-phase/testing/ 8000\n",
      "finished: /home/csingh5/Documents/Guided-Machine-Learning/code/chris/data/input/XXZ/-f-qubits/100k-instances/single-phase/training/ 70000\n",
      "finished: /home/csingh5/Documents/Guided-Machine-Learning/code/chris/data/input/XXZ/-f-qubits/100k-instances/single-phase/validation/ 20000\n",
      "finished: /home/csingh5/Documents/Guided-Machine-Learning/code/chris/data/input/XXZ/-f-qubits/100k-instances/single-phase/testing/ 10000\n",
      "finished: /home/csingh5/Documents/Guided-Machine-Learning/code/chris/data/input/XXZ/-f-qubits/100k-instances/dual-phase/training/ 70000\n",
      "finished: /home/csingh5/Documents/Guided-Machine-Learning/code/chris/data/input/XXZ/-f-qubits/100k-instances/dual-phase/validation/ 20000\n",
      "finished: /home/csingh5/Documents/Guided-Machine-Learning/code/chris/data/input/XXZ/-f-qubits/100k-instances/dual-phase/testing/ 10000\n"
     ]
    }
   ],
   "source": [
    "root = \"/home/csingh5/Documents/Guided-Machine-Learning/code/chris/data/input/XXZ/\"\n",
    "\n",
    "#print(\"got: \", sys.argv[1], \" qubits\")\n",
    "qubits = [sys.argv[1]]\n",
    "dsizes = [int(sys.argv[2])]\n",
    "sampts = [\"single-phase/\", \"dual-phase/\"]\n",
    "splits = [\"training/\", \"validation/\", \"testing/\"]\n",
    "\n",
    "Jperp = 1\n",
    "W_realizations = 1000\n",
    "W_min = 0.01\n",
    "Jpara_min = 1; Jpara_max = 1; nJpara = 1;\n",
    "    \n",
    "for qubit in qubits:\n",
    "    for dsize in dsizes:\n",
    "        for sampt in sampts:\n",
    "            for split in splits:\n",
    "                dir_prefix = root + str(qubit) + \"-qubits/\" + str(dsize) + \"k-instances/\" + sampt + split\n",
    "                \n",
    "                # figure out max disorder strength\n",
    "                if sampt == \"dual-phase/\" or split == \"testing/\":\n",
    "                    W_max = 5\n",
    "                else:\n",
    "                    W_max = 2.5\n",
    "                \n",
    "                # figure out number of instances \n",
    "                if split == \"training/\":\n",
    "                    W_instances = dsize * 700\n",
    "                elif split == \"validation/\":\n",
    "                    W_instances = dsize * 200\n",
    "                else:\n",
    "                    W_instances = dsize * 100\n",
    "                    \n",
    "                grid = disorder_coupling_meshgrid(W_min, W_max, W_instances, W_realizations, Jpara_min, Jpara_max, nJpara)\n",
    "                write_data(int(qubit), Jperp, grid, dir_prefix)\n",
    "                print(\"finished:\", dir_prefix, W_instances)"
   ]
  },
  {
   "cell_type": "code",
   "execution_count": 7,
   "metadata": {},
   "outputs": [],
   "source": [
    "def T(potential_row_index, dim):\n",
    "    i = potential_row_index\n",
    "    return (i+1) * dim - int((i*i + i + 2)/2)\n",
    "\n",
    "def spmv(header, matloc, matval, vector):\n",
    "    dim = header[2]\n",
    "    nnz = header[1]\n",
    "    resultant = np.zeros(len(vector))\n",
    "    previous_valid_row_index = 0\n",
    "\n",
    "    for i in range(nnz):\n",
    "        for potential_row_index in range(previous_valid_row_index, dim):\n",
    "            if matloc[i] <= T(potential_row_index, dim):\n",
    "                actual_row_index = potential_row_index\n",
    "                previous_valid_row_index = potential_row_index\n",
    "                actual_col_index = matloc[i] - (T(actual_row_index - 1, dim) + 1) + actual_row_index\n",
    "\n",
    "                resultant[actual_row_index] += matval[i] * vector[actual_col_index]\n",
    "                if (actual_row_index != actual_col_index):\n",
    "                    resultant[actual_col_index] += matval[i] * vector[actual_row_index]\n",
    "                break;\n",
    "                \n",
    "    return resultant"
   ]
  }
 ],
 "metadata": {
  "kernelspec": {
   "display_name": "Python 3",
   "language": "python",
   "name": "python3"
  },
  "language_info": {
   "codemirror_mode": {
    "name": "ipython",
    "version": 3
   },
   "file_extension": ".py",
   "mimetype": "text/x-python",
   "name": "python",
   "nbconvert_exporter": "python",
   "pygments_lexer": "ipython3",
   "version": "3.6.9"
  }
 },
 "nbformat": 4,
 "nbformat_minor": 2
}
