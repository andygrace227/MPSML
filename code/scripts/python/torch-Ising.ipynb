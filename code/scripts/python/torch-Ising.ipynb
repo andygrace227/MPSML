{
 "cells": [
  {
   "cell_type": "markdown",
   "metadata": {},
   "source": [
    "# Generalized Ising with transverse and longitudinal field \n",
    "\n",
    "For the sake of studying the effectiveness of a physics guided neural net, we need a generalized Ising description that can generate datasets in arbitrary phases with arbitrary number of sites. In the two site system, the magnetization varies so smoothly across the transition that it is hard to say when the transition actually occurs in the thermodynamic limit.\n",
    "\n",
    "\n",
    "The energy scale is set by fixing the antiferromagnetic coupling $J = 1$.\n",
    "\n",
    "\n",
    "The model\n",
    "\n",
    "$$ H = J \\sum_{i=0}^{N-1} \\sigma_i^z \\sigma_{i+1}^z - B_x \\sum_{i=0}^{N-1} \\sigma_i^x  - B_z \\sum_{i=0}^{N-1} \\sigma_i^z $$\n",
    "\n",
    "\n",
    "The field coefficients are positive always $B_x, B_z \\ge 0$, and periodic boundary conditions are used \n",
    "\n",
    "The operators are understood to be the $N$-fold product of the spin space\n",
    "\n",
    "$$ \\sigma_i = \\mathbf{1} \\otimes ... \\otimes \\sigma \\otimes \\mathbf{1} ... \\otimes \\mathbf{1} $$"
   ]
  },
  {
   "cell_type": "code",
   "execution_count": 11,
   "metadata": {},
   "outputs": [],
   "source": [
    "import matplotlib.pyplot as plt\n",
    "import numpy as np\n",
    "import qutip as qu\n",
    "import sys\n",
    "import os\n",
    "import scipy.sparse as sp"
   ]
  },
  {
   "cell_type": "code",
   "execution_count": 2,
   "metadata": {},
   "outputs": [],
   "source": [
    "import torch \n",
    "import torch.nn as nn\n",
    "import torch.optim as optim\n",
    "import torch.nn.functional as F"
   ]
  },
  {
   "cell_type": "code",
   "execution_count": 3,
   "metadata": {},
   "outputs": [],
   "source": [
    "if torch.cuda.is_available():\n",
    "    device = torch.device(\"cuda\")          # a CUDA device object"
   ]
  },
  {
   "cell_type": "code",
   "execution_count": 4,
   "metadata": {},
   "outputs": [
    {
     "name": "stdout",
     "output_type": "stream",
     "text": [
      "Net(\n",
      "  (fc1): Linear(in_features=1, out_features=10, bias=True)\n",
      ")\n"
     ]
    }
   ],
   "source": [
    "class Net(nn.Module):\n",
    "    def __init__(self):\n",
    "        super(Net, self).__init__()\n",
    "        self.fc1 = nn.Linear(1, 10) \n",
    "\n",
    "    def forward(self, x):\n",
    "        x = torch.tanh(self.fc1(x))\n",
    "        return x\n",
    "\n",
    "net = Net()\n",
    "print(net)"
   ]
  },
  {
   "cell_type": "code",
   "execution_count": 39,
   "metadata": {},
   "outputs": [
    {
     "name": "stdout",
     "output_type": "stream",
     "text": [
      "2\n",
      "torch.Size([10, 1])\n"
     ]
    }
   ],
   "source": [
    "params = list(net.parameters())\n",
    "print(len(params))\n",
    "print(params[0].size())  # conv1's .weight"
   ]
  },
  {
   "cell_type": "code",
   "execution_count": 54,
   "metadata": {},
   "outputs": [
    {
     "name": "stdout",
     "output_type": "stream",
     "text": [
      "tensor([ 0.3891, -0.1191,  0.3007,  0.1568,  0.5923,  0.3899,  0.2692, -0.1705,\n",
      "         0.6914,  0.7326], grad_fn=<TanhBackward>)\n"
     ]
    }
   ],
   "source": [
    "print(net(torch.randn(1)))"
   ]
  },
  {
   "cell_type": "code",
   "execution_count": 47,
   "metadata": {},
   "outputs": [],
   "source": [
    "net.zero_grad()\n",
    "out = net(torch.randn(1))\n",
    "out.backward(net(torch.randn(1)))"
   ]
  },
  {
   "cell_type": "code",
   "execution_count": 51,
   "metadata": {},
   "outputs": [],
   "source": [
    "optimizer = optim.SGD(net.parameters(), lr=0.01)\n",
    "criterion = nn.MSELoss()\n",
    "target = torch.randn(10)\n",
    "# in your training loop:\n",
    "optimizer.zero_grad()   # zero the gradient buffers\n",
    "output = net(torch.randn(1))\n",
    "loss = criterion(output, target)\n",
    "loss.backward()\n",
    "optimizer.step()    # Does the update"
   ]
  },
  {
   "cell_type": "markdown",
   "metadata": {},
   "source": [
    "### Define the functions to construct the energy operator"
   ]
  },
  {
   "cell_type": "code",
   "execution_count": 13,
   "metadata": {},
   "outputs": [],
   "source": [
    "def transverse(N, site):\n",
    "    op = []\n",
    "    \n",
    "    for i in range(N):\n",
    "        op.append(qu.qeye(2))\n",
    "        \n",
    "    op[site] = qu.sigmax()\n",
    "    \n",
    "    return qu.tensor(op)\n",
    "\n",
    "def longitudinal(N, site):\n",
    "    op = []\n",
    "    \n",
    "    for i in range(N):\n",
    "        op.append(qu.qeye(2))\n",
    "        \n",
    "    op[site] = qu.sigmaz()\n",
    "    \n",
    "    return qu.tensor(op)\n",
    "\n",
    "def coupling(N, site):\n",
    "    if (site == N-1):\n",
    "        return longitudinal(N,site) * longitudinal(N, 0)\n",
    "    else:\n",
    "        return longitudinal(N,site) * longitudinal(N, site+1)\n",
    "\n",
    "def H(N, Bx, Bz, J):\n",
    "    term1 = coupling(N, 0) \n",
    "    term2 = transverse(N, 0)\n",
    "    term3 = longitudinal(N, 0)\n",
    "       \n",
    "    for site in range(1, N):\n",
    "        term1 += coupling(N,site)\n",
    "        term2 += transverse(N,site)\n",
    "        term3 += longitudinal(N,site)\n",
    "    \n",
    "    return (-J/N) * term1 - (Bx/N) * term2 - (Bz/N) * term3"
   ]
  },
  {
   "cell_type": "code",
   "execution_count": 108,
   "metadata": {},
   "outputs": [
    {
     "data": {
      "text/latex": [
       "Quantum object: dims = [[2, 2, 2, 2], [2, 2, 2, 2]], shape = (16, 16), type = oper, isherm = True\\begin{equation*}\\left(\\begin{array}{*{11}c}-1.010 & -0.500 & -0.500 & 0.0 & -0.500 & \\cdots & 0.0 & 0.0 & 0.0 & 0.0 & 0.0\\\\-0.500 & -0.005 & 0.0 & -0.500 & 0.0 & \\cdots & 0.0 & 0.0 & 0.0 & 0.0 & 0.0\\\\-0.500 & 0.0 & -0.005 & -0.500 & 0.0 & \\cdots & 0.0 & 0.0 & 0.0 & 0.0 & 0.0\\\\0.0 & -0.500 & -0.500 & 0.0 & 0.0 & \\cdots & -0.500 & 0.0 & 0.0 & 0.0 & 0.0\\\\-0.500 & 0.0 & 0.0 & 0.0 & -0.005 & \\cdots & 0.0 & -0.500 & 0.0 & 0.0 & 0.0\\\\\\vdots & \\vdots & \\vdots & \\vdots & \\vdots & \\ddots & \\vdots & \\vdots & \\vdots & \\vdots & \\vdots\\\\0.0 & 0.0 & 0.0 & -0.500 & 0.0 & \\cdots & 0.005 & 0.0 & 0.0 & 0.0 & -0.500\\\\0.0 & 0.0 & 0.0 & 0.0 & -0.500 & \\cdots & 0.0 & 0.0 & -0.500 & -0.500 & 0.0\\\\0.0 & 0.0 & 0.0 & 0.0 & 0.0 & \\cdots & 0.0 & -0.500 & 0.005 & 0.0 & -0.500\\\\0.0 & 0.0 & 0.0 & 0.0 & 0.0 & \\cdots & 0.0 & -0.500 & 0.0 & 0.005 & -0.500\\\\0.0 & 0.0 & 0.0 & 0.0 & 0.0 & \\cdots & -0.500 & 0.0 & -0.500 & -0.500 & -0.990\\\\\\end{array}\\right)\\end{equation*}"
      ],
      "text/plain": [
       "Quantum object: dims = [[2, 2, 2, 2], [2, 2, 2, 2]], shape = (16, 16), type = oper, isherm = True\n",
       "Qobj data =\n",
       "[[-1.01  -0.5   -0.5    0.    -0.5    0.     0.     0.    -0.5    0.\n",
       "   0.     0.     0.     0.     0.     0.   ]\n",
       " [-0.5   -0.005  0.    -0.5    0.    -0.5    0.     0.     0.    -0.5\n",
       "   0.     0.     0.     0.     0.     0.   ]\n",
       " [-0.5    0.    -0.005 -0.5    0.     0.    -0.5    0.     0.     0.\n",
       "  -0.5    0.     0.     0.     0.     0.   ]\n",
       " [ 0.    -0.5   -0.5    0.     0.     0.     0.    -0.5    0.     0.\n",
       "   0.    -0.5    0.     0.     0.     0.   ]\n",
       " [-0.5    0.     0.     0.    -0.005 -0.5   -0.5    0.     0.     0.\n",
       "   0.     0.    -0.5    0.     0.     0.   ]\n",
       " [ 0.    -0.5    0.     0.    -0.5    1.     0.    -0.5    0.     0.\n",
       "   0.     0.     0.    -0.5    0.     0.   ]\n",
       " [ 0.     0.    -0.5    0.    -0.5    0.     0.    -0.5    0.     0.\n",
       "   0.     0.     0.     0.    -0.5    0.   ]\n",
       " [ 0.     0.     0.    -0.5    0.    -0.5   -0.5    0.005  0.     0.\n",
       "   0.     0.     0.     0.     0.    -0.5  ]\n",
       " [-0.5    0.     0.     0.     0.     0.     0.     0.    -0.005 -0.5\n",
       "  -0.5    0.    -0.5    0.     0.     0.   ]\n",
       " [ 0.    -0.5    0.     0.     0.     0.     0.     0.    -0.5    0.\n",
       "   0.    -0.5    0.    -0.5    0.     0.   ]\n",
       " [ 0.     0.    -0.5    0.     0.     0.     0.     0.    -0.5    0.\n",
       "   1.    -0.5    0.     0.    -0.5    0.   ]\n",
       " [ 0.     0.     0.    -0.5    0.     0.     0.     0.     0.    -0.5\n",
       "  -0.5    0.005  0.     0.     0.    -0.5  ]\n",
       " [ 0.     0.     0.     0.    -0.5    0.     0.     0.    -0.5    0.\n",
       "   0.     0.     0.    -0.5   -0.5    0.   ]\n",
       " [ 0.     0.     0.     0.     0.    -0.5    0.     0.     0.    -0.5\n",
       "   0.     0.    -0.5    0.005  0.    -0.5  ]\n",
       " [ 0.     0.     0.     0.     0.     0.    -0.5    0.     0.     0.\n",
       "  -0.5    0.    -0.5    0.     0.005 -0.5  ]\n",
       " [ 0.     0.     0.     0.     0.     0.     0.    -0.5    0.     0.\n",
       "   0.    -0.5    0.    -0.5   -0.5   -0.99 ]]"
      ]
     },
     "execution_count": 108,
     "metadata": {},
     "output_type": "execute_result"
    }
   ],
   "source": [
    "H(4, 2, 0.01, 1)"
   ]
  },
  {
   "cell_type": "code",
   "execution_count": 196,
   "metadata": {},
   "outputs": [
    {
     "data": {
      "text/latex": [
       "Quantum object: dims = [[2, 2, 2, 2], [1, 1, 1, 1]], shape = (16, 1), type = ket\\begin{equation*}\\left(\\begin{array}{*{11}c}0.990\\\\0.071\\\\0.071\\\\0.010\\\\0.071\\\\\\vdots\\\\0.002\\\\0.010\\\\0.002\\\\0.002\\\\0.002\\\\\\end{array}\\right)\\end{equation*}"
      ],
      "text/plain": [
       "Quantum object: dims = [[2, 2, 2, 2], [1, 1, 1, 1]], shape = (16, 1), type = ket\n",
       "Qobj data =\n",
       "[[0.98964284]\n",
       " [0.07099037]\n",
       " [0.07099037]\n",
       " [0.00972531]\n",
       " [0.07099037]\n",
       " [0.00514118]\n",
       " [0.00972531]\n",
       " [0.00172381]\n",
       " [0.07099037]\n",
       " [0.00972531]\n",
       " [0.00514118]\n",
       " [0.00172381]\n",
       " [0.00972531]\n",
       " [0.00172381]\n",
       " [0.00172381]\n",
       " [0.00233452]]"
      ]
     },
     "execution_count": 196,
     "metadata": {},
     "output_type": "execute_result"
    }
   ],
   "source": [
    "psi = H(4, 0.3, 0.1, 1).groundstate()[1]\n",
    "#e = np.linalg.eigh( (psi * psi.dag()).full().real )[0]\n",
    "psi"
   ]
  },
  {
   "cell_type": "code",
   "execution_count": 200,
   "metadata": {},
   "outputs": [
    {
     "data": {
      "text/plain": [
       "array([[9.89566791e-01, 7.13272503e-02, 7.13272503e-02, 9.89203131e-03],\n",
       "       [7.13272503e-02, 5.16361707e-03, 5.14260289e-03, 7.20054297e-04],\n",
       "       [7.13272503e-02, 5.14260289e-03, 5.16361707e-03, 7.20054297e-04],\n",
       "       [9.89203131e-03, 7.20054297e-04, 7.20054297e-04, 1.05974570e-04]])"
      ]
     },
     "execution_count": 200,
     "metadata": {},
     "output_type": "execute_result"
    }
   ],
   "source": [
    "def reduced_density_matrix(psi):\n",
    "    num_qubits = int(np.log2(len(psi.full().real)))\n",
    "    full_dim = len(psi.full().real)\n",
    "    redu_dim = 2**(int(num_qubits/2))\n",
    "    \n",
    "    full_den = (psi * psi.dag()).full().real\n",
    "    redu_den = np.zeros((redu_dim, redu_dim))\n",
    "    \n",
    "    for k in range(redu_dim):\n",
    "        for l in range(redu_dim):\n",
    "            for j in range(redu_dim):\n",
    "                row = (k-0)*redu_dim + j\n",
    "                col = (l-0)*redu_dim + j\n",
    "                #print(row, \" \", col)\n",
    "                redu_den[k,l] += full_den[row, col]\n",
    "    \n",
    "    return redu_den\n",
    "\n",
    "reduced_density_matrix(psi)"
   ]
  },
  {
   "cell_type": "code",
   "execution_count": 201,
   "metadata": {},
   "outputs": [],
   "source": [
    "def entanglement_entropy(psi):\n",
    "    a = np.linalg.eig(reduced_density_matrix(psi))[0]\n",
    "    return -np.sum(a * np.log(a))"
   ]
  },
  {
   "cell_type": "code",
   "execution_count": 130,
   "metadata": {},
   "outputs": [],
   "source": [
    "def von_neumann_entropy(psi):\n",
    "    a = np.linalg.eig( (psi * psi.dag()).full().real )[0]\n",
    "    return -np.sum(a * np.log(a))"
   ]
  },
  {
   "cell_type": "code",
   "execution_count": 202,
   "metadata": {},
   "outputs": [],
   "source": [
    "x = np.linspace(0.6,2,50)\n",
    "y4 = []\n",
    "for Bx in x:\n",
    "    psi = H(4, Bx, 0.01, 1).groundstate()[1]\n",
    "    y4.append(entanglement_entropy(psi))\n",
    "    \n",
    "y6 = []\n",
    "for Bx in x:\n",
    "    psi = H(6, Bx, 0.01, 1).groundstate()[1]\n",
    "    y6.append(entanglement_entropy(psi))\n",
    "    \n",
    "y8 = []\n",
    "for Bx in x:\n",
    "    psi = H(8, Bx, 0.01, 1).groundstate()[1]\n",
    "    y8.append(entanglement_entropy(psi))"
   ]
  },
  {
   "cell_type": "code",
   "execution_count": 203,
   "metadata": {},
   "outputs": [],
   "source": [
    "plt.plot(x, y4, label=\"4 qubits\")\n",
    "plt.plot(x, y6, label=\"6 qubits\")\n",
    "plt.plot(x, y8, label=\"8 qubits\")\n",
    "plt.xlabel(\"Bx\")\n",
    "plt.title(\"Exact\")\n",
    "plt.legend()\n",
    "plt.ylabel(\"Entanglement Entropy\")\n",
    "#plt.axvline(x[np.argmax(y)], ls=\":\")\n",
    "#plt.show()\n",
    "plt.savefig(\"EE.png\", dpi=900, bbox_inches='tight')"
   ]
  },
  {
   "cell_type": "code",
   "execution_count": null,
   "metadata": {},
   "outputs": [],
   "source": []
  },
  {
   "cell_type": "code",
   "execution_count": 43,
   "metadata": {},
   "outputs": [],
   "source": [
    "N = 12\n",
    "\n",
    "b2 = H(N, 2, 0.05, 1).eigenstates()[1][0].full().real\n",
    "b1 = H(N, 0, 0.05, 1).eigenstates()[1][0].full().real\n",
    "slope = (-b2 - b1)/2 \n",
    "inter = -b1\n",
    "\n",
    "def overlap(Bx):\n",
    "    exact = H(N, Bx, 0.05, 1).eigenstates()[1][0].full().real\n",
    "    pred = slope * Bx + inter\n",
    "    pred = pred / np.linalg.norm(pred)\n",
    "    return abs(pred.T.dot(exact)[0][0])"
   ]
  },
  {
   "cell_type": "code",
   "execution_count": 44,
   "metadata": {},
   "outputs": [
    {
     "data": {
      "text/plain": [
       "0.7406440450503675"
      ]
     },
     "execution_count": 44,
     "metadata": {},
     "output_type": "execute_result"
    }
   ],
   "source": [
    "np.mean([overlap(Bx) for Bx in np.linspace(0,2,10)])"
   ]
  },
  {
   "cell_type": "code",
   "execution_count": 5,
   "metadata": {},
   "outputs": [
    {
     "data": {
      "image/png": "[encoded data removed]",
      "text/plain": [
       "<Figure size 432x288 with 1 Axes>"
      ]
     },
     "metadata": {},
     "output_type": "display_data"
    }
   ],
   "source": [
    "plt.spy(H(10,1,1,1).full())\n",
    "plt.show()"
   ]
  },
  {
   "cell_type": "code",
   "execution_count": null,
   "metadata": {},
   "outputs": [],
   "source": [
    "def mag(N):\n",
    "    tmp = longitudinal(N, 0)\n",
    "    for site in range(1, N):\n",
    "        tmp += longitudinal(N,site)\n",
    "    return np.diag(tmp.full().real) / N"
   ]
  },
  {
   "cell_type": "markdown",
   "metadata": {},
   "source": [
    "## Now define functions returning the parts of the dataset to be written to file"
   ]
  },
  {
   "cell_type": "code",
   "execution_count": null,
   "metadata": {},
   "outputs": [],
   "source": [
    "def BxBz_meshgrid(Bx_min, Bx_max, Bz_min, Bz_max, nBx, nBz):\n",
    "    \n",
    "    mat = np.zeros((nBx*nBz, 2), np.float64)\n",
    "\n",
    "    x = np.linspace(Bx_min, Bx_max, nBx)\n",
    "    z = np.linspace(Bz_min, Bz_max, nBz)\n",
    "\n",
    "    c = 0\n",
    "    for Bx in x:\n",
    "        for Bz in z:\n",
    "            mat[c, :] = Bx,Bz\n",
    "            c += 1\n",
    "            \n",
    "    np.random.shuffle(mat)\n",
    "    \n",
    "    return mat"
   ]
  },
  {
   "cell_type": "code",
   "execution_count": null,
   "metadata": {},
   "outputs": [],
   "source": [
    "def groundstate_wavefunction_from_qutip(qutip_groundstate_object):\n",
    "    return qutip_groundstate_object[1].full().real.flatten()\n",
    "\n",
    "def groundstate_eigenenergy_from_qutip(qutip_groundstate_object):\n",
    "    return qutip_groundstate_object[0].real"
   ]
  },
  {
   "cell_type": "code",
   "execution_count": null,
   "metadata": {},
   "outputs": [],
   "source": [
    "def values_array_from_qutip_hamiltonian(qutip_hamiltonian):\n",
    "    tmp = qutip_hamiltonian.full().real\n",
    "    dim = qutip_hamiltonian.shape[0]\n",
    "    iu1 = np.triu_indices(dim)\n",
    "    return tmp[iu1][np.nonzero(tmp[iu1])]\n",
    "    \n",
    "def locations_array_from_qutip_hamiltonian(qutip_hamiltonian):\n",
    "    tmp = qutip_hamiltonian.full().real\n",
    "    dim = qutip_hamiltonian.shape[0]\n",
    "    iu1 = np.triu_indices(dim)\n",
    "    return np.nonzero(tmp[iu1])[0]"
   ]
  },
  {
   "cell_type": "code",
   "execution_count": null,
   "metadata": {},
   "outputs": [],
   "source": [
    "def flattened_hams_gsvecs_and_enes_on_meshgrid(N, J, meshgrid):\n",
    "    instances = np.size(meshgrid,0)\n",
    "    dim = 2**N\n",
    "    nnz = len(values_array_from_qutip_hamiltonian(H(N, 1, 0.01, -1)))\n",
    "    \n",
    "    vecs = np.empty((instances, dim), np.float64)\n",
    "    enes = np.empty((instances, 1), np.float64)\n",
    "    matval = np.empty((instances, nnz), np.float64)\n",
    "    matloc = np.empty((instances, nnz), np.int32)\n",
    "    \n",
    "    for i in range(instances):  \n",
    "        ham = H(N, meshgrid[i,0], meshgrid[i,1], J)\n",
    "        gs = ham.groundstate()\n",
    "        vecs[i,:] = groundstate_wavefunction_from_qutip(gs)\n",
    "        enes[i,:] = groundstate_eigenenergy_from_qutip(gs)\n",
    "        matval[i,:] = values_array_from_qutip_hamiltonian(ham)\n",
    "        matloc[i,:] = locations_array_from_qutip_hamiltonian(ham)\n",
    "        \n",
    "    return matval.flatten(),matloc.flatten(),vecs.flatten(),enes.flatten()"
   ]
  },
  {
   "cell_type": "markdown",
   "metadata": {},
   "source": [
    "### Solve the eigenproblem in the Bx,Bz plane, manange and write to disk\n",
    "\n",
    "the function looks long but this is just because the results of the heavy computation are organized and written to various files. This should ultimately save time by writing training data files for several different flavors, as well \n",
    "as the priors associated with them. Actually, this is rather necessary so that the shuffled meshgrid is continuous accross seperate files. The nameing convention may need to be tweaked to somehow contain information about the portion of the phase diagram that is sampled by the meshgrid. "
   ]
  },
  {
   "cell_type": "code",
   "execution_count": null,
   "metadata": {},
   "outputs": [],
   "source": [
    "def write_data(N, J, meshgrid, dir_prefix):\n",
    "    instances = np.size(meshgrid,0)\n",
    "    dim = 2**N\n",
    "    nnz = len(values_array_from_qutip_hamiltonian(H(N, 1, 0.01, -1)))\n",
    "    \n",
    "    header = np.array([instances, nnz, dim], np.int32)\n",
    "    fields = meshgrid[:,0].flatten()\n",
    "    \n",
    "    if not os.path.exists(dir_prefix):\n",
    "        os.makedirs(dir_prefix)\n",
    "    \n",
    "    header_path = f\"{dir_prefix}header.bin\"\n",
    "    fields_path = f\"{dir_prefix}fields.bin\"\n",
    "    matval_path = f\"{dir_prefix}matval.bin\"\n",
    "    matloc_path = f\"{dir_prefix}matloc.bin\"\n",
    "    wavefx_path = f\"{dir_prefix}wavefx.bin\"\n",
    "    energy_path = f\"{dir_prefix}energy.bin\"\n",
    "\n",
    "    matval,matloc,wavefx,energy = flattened_hams_gsvecs_and_enes_on_meshgrid(N, J, meshgrid)\n",
    "    \n",
    "    with open(header_path, 'wb') as file:\n",
    "        header.tofile(file)\n",
    "    \n",
    "    with open(fields_path, 'wb') as file:\n",
    "        fields.tofile(file)\n",
    "\n",
    "    with open(matval_path, 'wb') as file:\n",
    "        matval.tofile(file)\n",
    "    \n",
    "    with open(matloc_path, 'wb') as file:\n",
    "        matloc.tofile(file)\n",
    "        \n",
    "    with open(wavefx_path, 'wb') as file:\n",
    "        wavefx.tofile(file)\n",
    "        \n",
    "    with open(energy_path, 'wb') as file:\n",
    "        energy.tofile(file)"
   ]
  },
  {
   "cell_type": "code",
   "execution_count": null,
   "metadata": {},
   "outputs": [],
   "source": [
    "J = -1\n",
    "\n",
    "root = \"/home/csingh5/Documents/Guided-Machine-Learning/code/chris/data/input/Ising/\"\n",
    "qubits = [sys.argv[1]]\n",
    "dsizes = [int(sys.argv[2])]\n",
    "sampts = [\"single-phase/\", \"dual-phase/\"]\n",
    "splits = [\"training/\", \"validation/\", \"testing/\"]\n",
    "\n",
    "Bz_min = 0.01; Bz_max = 0.01; nBz = 1; \n",
    "Bx_min = 0.01\n",
    "    \n",
    "for qubit in qubits:\n",
    "    for dsize in dsizes:\n",
    "        for sampt in sampts:\n",
    "            for split in splits:\n",
    "                dir_prefix = root + str(qubit) + \"-qubits/\" + str(dsize) + \"k-instances/\" + sampt + split\n",
    "                \n",
    "                # figure out max transverse field \n",
    "                if sampt == \"dual-phase/\" or split == \"testing/\":\n",
    "                    Bx_max = 2\n",
    "                else:\n",
    "                    Bx_max = 0.5\n",
    "                \n",
    "                # figure out number of instances \n",
    "                if split == \"training/\":\n",
    "                    nBx = dsize * 700\n",
    "                elif split == \"validation/\":\n",
    "                    nBx = dsize * 200\n",
    "                else:\n",
    "                    nBx = dsize * 100\n",
    "                    \n",
    "                grid = BxBz_meshgrid(Bx_min, Bx_max, Bz_min, Bz_max, nBx, nBz)\n",
    "                write_data(int(qubit), J, grid, dir_prefix)\n",
    "                print(\"finished:\", dir_prefix, nBx)"
   ]
  }
 ],
 "metadata": {
  "kernelspec": {
   "display_name": "Python 3",
   "language": "python",
   "name": "python3"
  },
  "language_info": {
   "codemirror_mode": {
    "name": "ipython",
    "version": 3
   },
   "file_extension": ".py",
   "mimetype": "text/x-python",
   "name": "python",
   "nbconvert_exporter": "python",
   "pygments_lexer": "ipython3",
   "version": "3.6.3"
  }
 },
 "nbformat": 4,
 "nbformat_minor": 2
}
