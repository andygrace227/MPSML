{
 "cells": [
  {
   "cell_type": "code",
   "execution_count": 1,
   "id": "ddd2bdaf-2808-4482-9e15-16fbb762cc75",
   "metadata": {},
   "outputs": [],
   "source": [
    "import tensorflow as tf\n",
    "import numpy as np \n",
    "import torch\n",
    "import time"
   ]
  },
  {
   "cell_type": "code",
   "execution_count": 2,
   "id": "77697417-8e08-43a8-889c-3c31bdde1139",
   "metadata": {},
   "outputs": [],
   "source": [
    "def nearest_neighbor(matrix):\n",
    "    w = len(matrix)\n",
    "    h = len(matrix[0])\n",
    "    neighbors = [[0 for x in range(w)] for y in range(h)]\n",
    "    for i in range (0, w):\n",
    "        for j in range (0, h):\n",
    "            entry = {\n",
    "                \"left\": matrix[i][(j-1)%w],\n",
    "                \"right\": matrix[i][(j+1)%h],\n",
    "                \"up\": matrix[(i-1)%w][j],\n",
    "                \"down\": matrix[(i+1)%w][j]\n",
    "            }\n",
    "            neighbors[i][j] = entry\n",
    "    return neighbors        \n",
    "    \n",
    "    "
   ]
  },
  {
   "cell_type": "code",
   "execution_count": 3,
   "id": "bb7505bc-808d-49e3-afed-64a4a93c5859",
   "metadata": {},
   "outputs": [
    {
     "name": "stdout",
     "output_type": "stream",
     "text": [
      "[[ 0  1  2  3  4]\n",
      " [ 5  6  7  8  9]\n",
      " [10 11 12 13 14]\n",
      " [15 16 17 18 19]\n",
      " [20 21 22 23 24]]\n",
      "[[{'left': 4, 'right': 1, 'up': 20, 'down': 5}, {'left': 0, 'right': 2, 'up': 21, 'down': 6}, {'left': 1, 'right': 3, 'up': 22, 'down': 7}, {'left': 2, 'right': 4, 'up': 23, 'down': 8}, {'left': 3, 'right': 0, 'up': 24, 'down': 9}], [{'left': 9, 'right': 6, 'up': 0, 'down': 10}, {'left': 5, 'right': 7, 'up': 1, 'down': 11}, {'left': 6, 'right': 8, 'up': 2, 'down': 12}, {'left': 7, 'right': 9, 'up': 3, 'down': 13}, {'left': 8, 'right': 5, 'up': 4, 'down': 14}], [{'left': 14, 'right': 11, 'up': 5, 'down': 15}, {'left': 10, 'right': 12, 'up': 6, 'down': 16}, {'left': 11, 'right': 13, 'up': 7, 'down': 17}, {'left': 12, 'right': 14, 'up': 8, 'down': 18}, {'left': 13, 'right': 10, 'up': 9, 'down': 19}], [{'left': 19, 'right': 16, 'up': 10, 'down': 20}, {'left': 15, 'right': 17, 'up': 11, 'down': 21}, {'left': 16, 'right': 18, 'up': 12, 'down': 22}, {'left': 17, 'right': 19, 'up': 13, 'down': 23}, {'left': 18, 'right': 15, 'up': 14, 'down': 24}], [{'left': 24, 'right': 21, 'up': 15, 'down': 0}, {'left': 20, 'right': 22, 'up': 16, 'down': 1}, {'left': 21, 'right': 23, 'up': 17, 'down': 2}, {'left': 22, 'right': 24, 'up': 18, 'down': 3}, {'left': 23, 'right': 20, 'up': 19, 'down': 4}]]\n"
     ]
    }
   ],
   "source": [
    "matrix = np.arange(25).reshape((5,5))\n",
    "print(matrix)\n",
    "neighbors = nearest_neighbor(matrix)\n",
    "print(neighbors)"
   ]
  },
  {
   "cell_type": "code",
   "execution_count": 4,
   "id": "9b4704e4-239b-47ac-aba2-9038f6f08e47",
   "metadata": {},
   "outputs": [],
   "source": [
    "def higher_dim_nearest_neighbor(tensor):\n",
    "    w = len(matrix)\n",
    "    h = len(matrix[0])\n",
    "    d = len(matrix[0][0])\n",
    "    neighbors = [[[0 for x in range(w)] for y in range(h)] for z in range(d)]\n",
    "    for i in range (0, w):\n",
    "        for j in range (0, h):\n",
    "            for k in range (0,d):\n",
    "                entry = [6]\n",
    "                entry[0] = matrix[i][(j-1)%w][k],\n",
    "                entry[1] = matrix[i][(j+1)%h][k],\n",
    "                entry[2] = matrix[(i-1)%w][j][k],\n",
    "                entry[3] = matrix[(i+1)%w][j][k],\n",
    "                entry[4] = matrix[i][j][(k-1)%d],\n",
    "                entry[5] = matrix[i][j][(k+1)%d]\n",
    "            neighbors[i][j][z] = entry\n",
    "    return neighbors   "
   ]
  },
  {
   "cell_type": "code",
   "execution_count": 2,
   "id": "b5ce267d-ff91-43c9-ac93-3400b4b914cb",
   "metadata": {},
   "outputs": [
    {
     "name": "stdout",
     "output_type": "stream",
     "text": [
      "tensor(6.5934)\n",
      "tensor(7.8423)\n",
      "tensor(7.8423)\n",
      "tensor(10.2817)\n",
      "0.07076883316040039\n"
     ]
    }
   ],
   "source": [
    "### Contracting Tensors\n",
    "\n",
    "def indices ( num_indices , _range ):\n",
    "    _list = [[]]\n",
    "    return ( _index_gen_helper ( num_indices , _range , _list ))\n",
    "def _index_gen_helper ( num_indices , _range , _list ):\n",
    "    _ret = []\n",
    "\n",
    "    for i in _list :\n",
    "        for j in range ( _range ):\n",
    "            _temp = i. copy ()\n",
    "            _temp . extend ([ j ])\n",
    "            _ret . append ( _temp )\n",
    "    if num_indices == 1:\n",
    "        return _ret\n",
    "    else :\n",
    "        return _index_gen_helper ( num_indices -1 , _range , _ret )\n",
    "c_1 = 0\n",
    "c_2 = 0\n",
    "c_3 = 0\n",
    "c_4 = 0\n",
    "num_independent_indices = 8\n",
    "spin_degree = 2\n",
    "\n",
    "A=torch.rand((2,2,2,2))\n",
    "B=torch.rand((2,2,2,2))\n",
    "\n",
    "start = time.time()\n",
    "for i ,j ,k ,l ,a ,b ,c , d in indices ( num_independent_indices , spin_degree ):  \n",
    "    c_1 += A[i][j][a][b]*A[j][i][c][d]*A[k][l][b][a]*A[l][k][d][c]\n",
    "    c_2 += A[i][j][a][b]*A[j][i][c][d]*A[k][l][b][a]*B[l][k][d][c]\n",
    "    c_3 += A[i][j][a][b]*A[j][i][c][d]*B[k][l][b][a]*A[l][k][d][c]\n",
    "    c_4 += A[i][j][a][b]*A[j][i][c][d]*B[k][l][b][a]*B[l][k][d][c]\n",
    "end = time.time()\n",
    "    \n",
    "print(c_1)\n",
    "print(c_2)\n",
    "print(c_3)\n",
    "print(c_4)\n",
    "print(end-start)"
   ]
  },
  {
   "cell_type": "code",
   "execution_count": 9,
   "id": "c5494f4a-ad28-486b-9c32-48bb8b516eee",
   "metadata": {},
   "outputs": [
    {
     "name": "stdout",
     "output_type": "stream",
     "text": [
      "[tensor(15.7748), tensor(16.8209), tensor(16.8209), tensor(18.0626), tensor(16.8209), tensor(18.6648), tensor(17.7975), tensor(19.9884), tensor(16.8209), tensor(17.7975), tensor(18.6648), tensor(19.9884), tensor(18.0626), tensor(19.9884), tensor(19.9884), tensor(22.3388)]\n",
      "0.004233121871948242\n"
     ]
    }
   ],
   "source": [
    "AB= [A,B]\n",
    "count=0\n",
    "C_i = [0 for x in range(2**4)]\n",
    "D_i = [0 for x in range(2**4)]\n",
    "start=time.time()\n",
    "for i ,j ,k ,l in indices(4,2):    \n",
    "    C_i[count]=torch.einsum('ijab, jicd, klba, lkdc', AB[i], AB[j], AB[k], AB[l])\n",
    "    #X = np.einsum('ijab, jicd', AB[i], AB[j])\n",
    "    #Y = np.einsum('ijab, jicd', AB[k], AB[l])\n",
    "    #D_i[count] = np.einsum('abcd, badc', X, Y)\n",
    "    count+=1\n",
    "end=time.time()\n",
    "print(C_i)\n",
    "#print(D_i)\n",
    "print(end-start)\n"
   ]
  },
  {
   "cell_type": "code",
   "execution_count": 10,
   "id": "7ece9d79-ece3-4651-8ec1-db2b515c6dff",
   "metadata": {},
   "outputs": [],
   "source": [
    "\n",
    "def instant_indices(num_independent_indices, inds, i):\n",
    "    for j in range (0, num_independent_indices):\n",
    "        inds[j] = i%2\n",
    "        i//=2\n",
    "    return inds"
   ]
  },
  {
   "cell_type": "code",
   "execution_count": 11,
   "id": "8e68d9ff-6b68-4ad4-843c-4c113d604b5c",
   "metadata": {},
   "outputs": [
    {
     "name": "stdout",
     "output_type": "stream",
     "text": [
      "tensor(15.7748)\n",
      "tensor(16.8209)\n",
      "tensor(16.8209)\n",
      "tensor(18.0626)\n",
      "0.07987594604492188\n"
     ]
    }
   ],
   "source": [
    "inds=[0 for x in range(32)]\n",
    "c_1 = 0\n",
    "c_2 = 0\n",
    "c_3 = 0\n",
    "c_4 = 0\n",
    "start = time.time()\n",
    "for i in range (2**8):\n",
    "    inds = instant_indices(num_independent_indices, inds, i)\n",
    "    c_1 += A[inds[0]][inds[1]][inds[4]][inds[5]]*A[inds[1]][inds[0]][inds[6]][inds[7]]*A[inds[2]][inds[3]][inds[5]][inds[4]]*A[inds[3]][inds[2]][inds[7]][inds[6]]\n",
    "    c_2 += A[inds[0]][inds[1]][inds[4]][inds[5]]*A[inds[1]][inds[0]][inds[6]][inds[7]]*A[inds[2]][inds[3]][inds[5]][inds[4]]*B[inds[3]][inds[2]][inds[7]][inds[6]]\n",
    "    c_3 += A[inds[0]][inds[1]][inds[4]][inds[5]]*A[inds[1]][inds[0]][inds[6]][inds[7]]*B[inds[2]][inds[3]][inds[5]][inds[4]]*A[inds[3]][inds[2]][inds[7]][inds[6]]\n",
    "    c_4 += A[inds[0]][inds[1]][inds[4]][inds[5]]*A[inds[1]][inds[0]][inds[6]][inds[7]]*B[inds[2]][inds[3]][inds[5]][inds[4]]*B[inds[3]][inds[2]][inds[7]][inds[6]]\n",
    "end = time.time()    \n",
    "print(c_1)\n",
    "print(c_2)\n",
    "print(c_3)\n",
    "print(c_4) \n",
    "print(end-start)"
   ]
  },
  {
   "cell_type": "code",
   "execution_count": 3,
   "id": "b3834b76-9461-406b-b609-7ff68c618d59",
   "metadata": {},
   "outputs": [],
   "source": [
    "A = torch.rand((2,2,2,2))\n",
    "B = torch.rand((2,2,2,2))\n"
   ]
  },
  {
   "cell_type": "code",
   "execution_count": 9,
   "id": "96439842-c794-409a-b538-6026d1a37841",
   "metadata": {},
   "outputs": [
    {
     "name": "stdout",
     "output_type": "stream",
     "text": [
      "tensor([[[[0.2927, 0.6908],\n",
      "          [0.0614, 0.2820]],\n",
      "\n",
      "         [[0.7225, 0.3655],\n",
      "          [0.2412, 0.3700]]],\n",
      "\n",
      "\n",
      "        [[[0.3025, 0.4392],\n",
      "          [0.7169, 0.2018]],\n",
      "\n",
      "         [[0.0522, 0.3946],\n",
      "          [0.7652, 0.3757]]]])\n",
      "tensor([[[[0.2281, 0.9448],\n",
      "          [0.2913, 0.9326]],\n",
      "\n",
      "         [[0.4149, 0.0527],\n",
      "          [0.3584, 0.5231]]],\n",
      "\n",
      "\n",
      "        [[[0.0349, 0.2980],\n",
      "          [0.8537, 0.3870]],\n",
      "\n",
      "         [[0.9053, 0.1372],\n",
      "          [0.9033, 0.6677]]]])\n",
      "tensor(57.4416)\n",
      "tensor(73.2549)\n",
      "tensor(73.2554)\n",
      "tensor(92.5636)\n",
      "tensor(73.2557)\n",
      "tensor(92.5636)\n",
      "tensor(92.5630)\n",
      "tensor(120.8514)\n",
      "328.5142123699188\n"
     ]
    }
   ],
   "source": [
    "print(A)\n",
    "print(B)\n",
    "\n",
    "c_1=0\n",
    "c_2=0\n",
    "c_3=0\n",
    "c_4=0\n",
    "c_5=0\n",
    "c_6=0\n",
    "c_7=0\n",
    "c_8=0\n",
    "start=time.time()\n",
    "for  a ,b ,c , d, e, f, g, h, i, j ,k ,l ,m ,n, o, p, q, r in indices ( 18 , 2 ):  \n",
    "    c_1 += A[a][b][j][k]*A[c][a][m][n]*A[b][c][p][q]*A[d][e][l][j]*A[f][d][o][m]*A[e][f][r][p]*A[g][h][k][l]*A[i][g][n][o]*A[h][i][q][r]\n",
    "    c_2 += A[a][b][j][k]*A[c][a][m][n]*A[b][c][p][q]*A[d][e][l][j]*A[f][d][o][m]*A[e][f][r][p]*A[g][h][k][l]*A[i][g][n][o]*B[h][i][q][r]\n",
    "    c_3 += A[a][b][j][k]*A[c][a][m][n]*A[b][c][p][q]*A[d][e][l][j]*A[f][d][o][m]*A[e][f][r][p]*A[g][h][k][l]*B[i][g][n][o]*A[h][i][q][r]\n",
    "    c_4 += A[a][b][j][k]*A[c][a][m][n]*A[b][c][p][q]*A[d][e][l][j]*A[f][d][o][m]*A[e][f][r][p]*A[g][h][k][l]*B[i][g][n][o]*B[h][i][q][r]\n",
    "    c_5 += A[a][b][j][k]*A[c][a][m][n]*A[b][c][p][q]*A[d][e][l][j]*A[f][d][o][m]*A[e][f][r][p]*B[g][h][k][l]*A[i][g][n][o]*A[h][i][q][r]\n",
    "    c_6 += A[a][b][j][k]*A[c][a][m][n]*A[b][c][p][q]*A[d][e][l][j]*A[f][d][o][m]*A[e][f][r][p]*B[g][h][k][l]*A[i][g][n][o]*B[h][i][q][r]\n",
    "    c_7 += A[a][b][j][k]*A[c][a][m][n]*A[b][c][p][q]*A[d][e][l][j]*A[f][d][o][m]*A[e][f][r][p]*B[g][h][k][l]*B[i][g][n][o]*A[h][i][q][r]\n",
    "    c_8 += A[a][b][j][k]*A[c][a][m][n]*A[b][c][p][q]*A[d][e][l][j]*A[f][d][o][m]*A[e][f][r][p]*B[g][h][k][l]*B[i][g][n][o]*B[h][i][q][r]\n",
    "    \n",
    "end=time.time()   \n",
    "print(c_1) \n",
    "print(c_2)\n",
    "print(c_3)\n",
    "print(c_4)\n",
    "print(c_5)\n",
    "print(c_6)\n",
    "print(c_7)\n",
    "print(c_8)\n",
    "print(end-start)"
   ]
  },
  {
   "cell_type": "code",
   "execution_count": 7,
   "id": "9a2a93fe-d2dc-4a41-b33f-3c98825f1ad1",
   "metadata": {},
   "outputs": [
    {
     "name": "stdout",
     "output_type": "stream",
     "text": [
      "tensor(57.4467)\n",
      "tensor(57.4467)\n",
      "tensor(73.2667)\n",
      "tensor(73.2667)\n",
      "tensor(73.2667)\n",
      "tensor(73.2667)\n",
      "tensor(92.5773)\n",
      "tensor(92.5773)\n",
      "tensor(73.2667)\n",
      "tensor(73.2667)\n",
      "tensor(92.5773)\n",
      "tensor(92.5773)\n",
      "tensor(92.5773)\n",
      "tensor(92.5773)\n",
      "tensor(120.8674)\n",
      "tensor(120.8674)\n",
      "0.8574471473693848\n"
     ]
    }
   ],
   "source": [
    "C_i = [0 for x in range(2**9)]\n",
    "D_i = [0 for x in range(2**9)]\n",
    "AB=[A,B]\n",
    "\n",
    "start=time.time()\n",
    "count=0\n",
    "for i ,j ,k ,l ,m ,n ,o ,p ,q in indices(9, 2):    \n",
    "    X = torch.einsum('abjk, camn->bcjkmn', AB[i], AB[j])\n",
    "    X = torch.einsum('bcjkmn, bcpq->jkmnpq', X, AB[k])\n",
    "    X = torch.einsum('jkmnpq, delj->deklmnpq', X, AB[l])\n",
    "    X = torch.einsum('deklmnpq, fdom->efklnopq', X, AB[m])\n",
    "    X = torch.einsum('efklnopq, efrp->klnoqr', X, AB[n])\n",
    "    X = torch.einsum('klnoqr, ghkl->ghnoqr', X, AB[o])\n",
    "    X = torch.einsum('ghnoqr, igno->hiqr', X, AB[p])\n",
    "    X = torch.einsum('hiqr,hiqr', X, AB[q])\n",
    "    D_i[count]=torch.einsum('abjk, camn, bcpq, delj, fdom, efrp, ghkl, igno, hiqr', AB[i], AB[j], AB[k], AB[l], AB[m], AB[n], AB[o], AB[p], AB[q])\n",
    "    C_i[count] = X\n",
    "    count+=1\n",
    "end=time.time()\n",
    "for i in range (8):\n",
    "    print(C_i[i])\n",
    "    print(D_i[i])\n",
    "\n",
    "print(end-start)\n",
    "#A[a][b][j][k]*A[c][a][m][n]*A[b][c][p][q]*A[d][e][l][j]*A[f][d][o][m]*A[e][f][r][p]*A[g][h][k][l]*A[i][g][n][o]*A[h][i][q][r]"
   ]
  },
  {
   "cell_type": "code",
   "execution_count": 31,
   "id": "b0646997-43a1-495b-823e-5605da53fe31",
   "metadata": {},
   "outputs": [
    {
     "name": "stdout",
     "output_type": "stream",
     "text": [
      "tensor(90311.6953)\n",
      "tensor(90171.0781)\n",
      "tensor(78384.7266)\n",
      "tensor(78678.1719)\n",
      "tensor(79363.8281)\n",
      "tensor(79021.4922)\n",
      "tensor(67868.3438)\n",
      "tensor(68256.0859)\n",
      "tensor(91298.8125)\n",
      "tensor(94390.8516)\n",
      "tensor(79354.9844)\n",
      "tensor(82527.)\n",
      "tensor(77564.4062)\n",
      "tensor(80416.9531)\n",
      "tensor(66495.1094)\n",
      "tensor(69731.2656)\n",
      "tensor(136501.5000)\n",
      "tensor(133692.)\n",
      "tensor(118763.6016)\n",
      "tensor(116899.8438)\n",
      "90.59476113319397\n"
     ]
    }
   ],
   "source": [
    "netA = [0] * 16\n",
    "netB = [0] * 16\n",
    "for i in range (16):\n",
    "    netA[i]=torch.rand((2,2,2,2))\n",
    "    netB[i]=torch.rand((2,2,2,2))\n",
    "\n",
    "C_i = [0 for x in range(2**16)]\n",
    "\n",
    "AB=[netA,netB]\n",
    "\n",
    "start=time.time()\n",
    "count=0\n",
    "for a, b, c, d, e, f, g, h, i ,j ,k ,l ,m ,n ,o ,p in indices(16, 2):    \n",
    "    X = torch.einsum('abeh, cail, dcmp, bdqt-> ehilmpqt', AB[a][0], AB[b][1], AB[c][2], AB[d][3])\n",
    "    Y = torch.einsum('abfe, caji, dcnm, bdrq-> fejinmrq', AB[e][4], AB[f][5], AB[g][6], AB[h][7])\n",
    "    Z = torch.einsum('abgf, cakj, dcon, bdsr-> gfkjonsr', AB[i][8], AB[j][9], AB[k][10], AB[l][11])\n",
    "    W = torch.einsum('abhg, calk, dcpo, bdts-> hglkpots', AB[m][12], AB[n][13], AB[o][14], AB[p][15])\n",
    "    C_i[count] = torch.einsum('ehilmpqt, fejinmrq, gfkjonsr, hglkpots', X, Y, Z, W)\n",
    "    count+=1\n",
    "end=time.time()\n",
    "for i in range (20):\n",
    "    print(C_i[i])\n",
    "\n",
    "\n",
    "print(end-start)"
   ]
  },
  {
   "cell_type": "code",
   "execution_count": 6,
   "id": "323e9379-c137-4c65-9f7f-5dab224571ee",
   "metadata": {},
   "outputs": [
    {
     "name": "stdout",
     "output_type": "stream",
     "text": [
      "tensor(10875745.)\n",
      "tensor(10003504.)\n",
      "tensor(15160137.)\n",
      "tensor(12806679.)\n",
      "tensor(11625867.)\n",
      "tensor(10688977.)\n",
      "tensor(16158760.)\n",
      "tensor(13675444.)\n",
      "tensor(10127021.)\n",
      "tensor(9315468.)\n",
      "tensor(14113564.)\n",
      "tensor(11925300.)\n",
      "tensor(11691054.)\n",
      "tensor(10745720.)\n",
      "tensor(16246996.)\n",
      "tensor(13746946.)\n",
      "tensor(10454817.)\n",
      "tensor(9487443.)\n",
      "tensor(14614929.)\n",
      "tensor(12139886.)\n",
      "10.403019905090332\n"
     ]
    }
   ],
   "source": [
    "netA = [[0 for i in range (5)]]*5\n",
    "netB = [[0 for i in range (5)]]*5\n",
    "for i in range (5):\n",
    "    for j in range (5):\n",
    "        netA[i][j]=torch.rand((2,2,2,2))\n",
    "        netB[i][j]=torch.rand((2,2,2,2))\n",
    "\n",
    "C_i = [0 for x in range(2**25)]\n",
    "\n",
    "AB=[netA,netB]\n",
    "\n",
    "start=time.time()\n",
    "count=0\n",
    "for a, b, c, d, e, f, g, h, i ,j ,k, l  in indices(12, 2):    \n",
    "    X = torch.einsum('abfg, cahi, dcjk, edlm, beno -> fghijklmno', AB[a][0][0], AB[b][0][1], AB[c][0][2], AB[d][0][3], AB[e][0][4]) \n",
    "    Y = torch.einsum('abpf, caqh, dcrj, edsl, betn -> pfqhrjsltn', AB[f][1][0], AB[g][1][1], AB[h][1][2], AB[i][1][3], AB[j][1][4])\n",
    "    XY = torch.einsum('fghijklmno, pfqhrjsltn -> gpiqkrmson', X, Y)\n",
    "    Z = torch.einsum('abfp, cahq, dcjr, edls, bent -> fphqjrlsnt' , AB[k][2][0], AB[l][2][1], AB[0][2][2], AB[0][2][3], AB[0][2][4])\n",
    "    XYZ = torch.einsum('gpiqkrmson, fphqjrlsnt -> gfihkjmlon', XY, Z)\n",
    "    U = torch.einsum('abpf, caqh, dcrj, edsl, betn -> pfqhrjsltn', AB[0][3][0], AB[0][3][1], AB[0][3][2], AB[0][3][3], AB[0][3][4])\n",
    "    XYZU = torch.einsum('gfihkjmlon, pfqhrjsltn -> gpiqkrmsot', XYZ, U)\n",
    "    V = torch.einsum('abgp, caiq, dckr, edms, beot -> gpiqkrmsot', AB[0][4][0], AB[0][4][1], AB[0][4][2], AB[0][4][3], AB[0][4][4])\n",
    "    C_i[count] = torch.einsum('gpiqkrmsot, gpiqkrmsot', XYZU, V)\n",
    "    count+=1\n",
    "end=time.time()\n",
    "for i in range (0,20):\n",
    "    print(C_i[i])\n",
    "\n",
    "\n",
    "print(end-start)"
   ]
  },
  {
   "cell_type": "code",
   "execution_count": 4,
   "id": "a59e1077-b914-445a-b1a3-729829a5d589",
   "metadata": {},
   "outputs": [
    {
     "name": "stdout",
     "output_type": "stream",
     "text": [
      "tensor(2.5179e+12)\n",
      "tensor(2.6282e+12)\n",
      "tensor(1.3279e+12)\n",
      "tensor(1.3274e+12)\n",
      "tensor(2.0377e+12)\n",
      "tensor(2.0948e+12)\n",
      "tensor(1.0506e+12)\n",
      "tensor(1.0372e+12)\n",
      "tensor(2.2114e+12)\n",
      "tensor(2.3082e+12)\n",
      "tensor(1.1662e+12)\n",
      "tensor(1.1657e+12)\n",
      "tensor(1.8500e+12)\n",
      "tensor(1.9036e+12)\n",
      "tensor(9.5513e+11)\n",
      "tensor(9.4367e+11)\n",
      "tensor(2.1481e+12)\n",
      "tensor(2.2421e+12)\n",
      "tensor(1.1327e+12)\n",
      "tensor(1.1323e+12)\n",
      "24.319133758544922\n"
     ]
    }
   ],
   "source": [
    "netA = [[0 for i in range (6)]]*6\n",
    "netB = [[0 for i in range (6)]]*6\n",
    "\n",
    "for i in range (6):\n",
    "    for j in range (6):\n",
    "        netA[i][j]=torch.rand((2,2,2,2))\n",
    "        netB[i][j]=torch.rand((2,2,2,2))\n",
    "\n",
    "C_i = [0 for x in range(4096)]\n",
    "\n",
    "AB=[netA,netB]\n",
    "\n",
    "start=time.time()\n",
    "count=0\n",
    "\n",
    "for a, b, c, d, e, f, g, h, i ,j ,k, l  in indices(12, 2):    \n",
    "    X = torch.einsum('abnh, caoi, dcpj, edqk, ferl, bfsm -> nhoipjqkrlsm', AB[a][0][0], AB[b][0][1], AB[c][0][2], AB[d][0][3], AB[e][0][4], AB[f][0][5]) \n",
    "    Y = torch.einsum('abtn, cauo, dcvp, edwq, fexr, bfys -> tnuovpwqxrys', AB[g][1][0], AB[h][1][1], AB[i][1][2], AB[j][1][3], AB[k][1][4], AB[l][1][5])\n",
    "    XY = torch.einsum('nhoipjqkrlsm, tnuovpwqxrys -> htiujvkwlxmy', X, Y)\n",
    "    Z = torch.einsum('abnt, caou, dcpv, edqw, ferx, bfsy -> ntoupvqwrxsy', AB[0][2][0], AB[0][2][1], AB[0][2][2], AB[0][2][3], AB[0][2][4], AB[0][2][5])\n",
    "    XYZ = torch.einsum('htiujvkwlxmy, ntoupvqwrxsy -> hniojpkqlrms', XY, Z)\n",
    "    U = torch.einsum('abtn, cauo, dcvp, edwq, fexr, bfys -> tnuovpwqxrys', AB[0][3][0], AB[0][3][1], AB[0][3][2], AB[0][3][3], AB[0][3][4], AB[0][3][5])\n",
    "    XYZU = torch.einsum('hniojpkqlrms, tnuovpwqxrys -> htiujvkwlxmy', XYZ, U)\n",
    "    V = torch.einsum('abnt, caou, dcpv, edqw, ferx, bfsy -> ntoupvqwrxsy', AB[0][4][0], AB[0][4][1], AB[0][4][2], AB[0][4][3], AB[0][4][4], AB[0][4][5])\n",
    "    XYZUV = torch.einsum('htiujvkwlxmy, ntoupvqwrxsy -> hniojpkqlrms', XYZU, V)\n",
    "    W = torch.einsum('abhn, caio, dcjp, edkq, felr, bfms -> hniojpkqlrms', AB[0][5][0], AB[0][5][1], AB[0][5][2], AB[0][5][3], AB[0][5][4], AB[0][5][5])\n",
    "    C_i[count] = torch.einsum('hniojpkqlrms, hniojpkqlrms', XYZUV, W)\n",
    "    count+=1\n",
    "end=time.time()\n",
    "for i in range (20):\n",
    "    print(C_i[i])\n",
    "\n",
    "\n",
    "print(end-start)"
   ]
  },
  {
   "cell_type": "code",
   "execution_count": null,
   "id": "f4f63963-8d9e-4f8d-9b42-246f0c1ca6c6",
   "metadata": {},
   "outputs": [],
   "source": []
  }
 ],
 "metadata": {
  "kernelspec": {
   "display_name": "Python 3",
   "language": "python",
   "name": "python3"
  },
  "language_info": {
   "codemirror_mode": {
    "name": "ipython",
    "version": 3
   },
   "file_extension": ".py",
   "mimetype": "text/x-python",
   "name": "python",
   "nbconvert_exporter": "python",
   "pygments_lexer": "ipython3",
   "version": "3.9.2"
  }
 },
 "nbformat": 4,
 "nbformat_minor": 5
}
