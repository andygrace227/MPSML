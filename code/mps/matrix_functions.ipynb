{
 "cells": [
  {
   "cell_type": "code",
   "execution_count": null,
   "id": "ddd2bdaf-2808-4482-9e15-16fbb762cc75",
   "metadata": {},
   "outputs": [],
   "source": [
    "import numpy as np \n",
    "import tensorflow as tf"
   ]
  },
  {
   "cell_type": "code",
   "execution_count": null,
   "id": "77697417-8e08-43a8-889c-3c31bdde1139",
   "metadata": {},
   "outputs": [],
   "source": [
    "def nearest_neighbor(matrix):\n",
    "    w = len(matrix)\n",
    "    h = len(matrix[0])\n",
    "    neighbors = [[0 for x in range(w)] for y in range(h)]\n",
    "    for i in range (0, w):\n",
    "        for j in range (0, h):\n",
    "            entry = {\n",
    "                \"left\": matrix[i][(j-1)%w],\n",
    "                \"right\": matrix[i][(j+1)%h],\n",
    "                \"up\": matrix[(i-1)%w][j],\n",
    "                \"down\": matrix[(i+1)%w][j]\n",
    "            }\n",
    "            neighbors[i][j] = entry\n",
    "    return neighbors        \n",
    "    \n",
    "    "
   ]
  },
  {
   "cell_type": "code",
   "execution_count": null,
   "id": "bb7505bc-808d-49e3-afed-64a4a93c5859",
   "metadata": {},
   "outputs": [],
   "source": [
    "matrix = [[1,2,3,4],\n",
    "         [5,6,7,8],\n",
    "         [9,10,11,12],\n",
    "         [13,14,15,16]]\n",
    "\n",
    "neighbors = nearest_neighbor(matrix)"
   ]
  },
  {
   "cell_type": "code",
   "execution_count": null,
   "id": "9b4704e4-239b-47ac-aba2-9038f6f08e47",
   "metadata": {},
   "outputs": [],
   "source": [
    "def higher_dim_nearest_neighbor(tensor):\n",
    "    w = len(matrix)\n",
    "    h = len(matrix[0])\n",
    "    d = len(matrix[0][0])\n",
    "    neighbors = [[[0 for x in range(w)] for y in range(h)] for z in range d]\n",
    "    for i in range (0, w):\n",
    "        for j in range (0, h):\n",
    "            for k in range (0,d):\n",
    "                entry = [6]\n",
    "                entry[0] = matrix[i][(j-1)%w][k],\n",
    "                entry[1] = matrix[i][(j+1)%h][k],\n",
    "                entry[2] = matrix[(i-1)%w][j][k],\n",
    "                entry[3] = matrix[(i+1)%w][j][k],\n",
    "                entry[4] = matrix[i][j][(k-1)%d],\n",
    "                entry[5] = matrix[i][j][(k+1)%d]\n",
    "            neighbors[i][j][z] = entry\n",
    "    return neighbors   "
   ]
  },
  {
   "cell_type": "code",
   "execution_count": null,
   "id": "b5ce267d-ff91-43c9-ac93-3400b4b914cb",
   "metadata": {},
   "outputs": [],
   "source": []
  },
  {
   "cell_type": "code",
   "execution_count": null,
   "id": "c5494f4a-ad28-486b-9c32-48bb8b516eee",
   "metadata": {},
   "outputs": [],
   "source": []
  }
 ],
 "metadata": {
  "kernelspec": {
   "display_name": "Python 3",
   "language": "python",
   "name": "python3"
  },
  "language_info": {
   "codemirror_mode": {
    "name": "ipython",
    "version": 3
   },
   "file_extension": ".py",
   "mimetype": "text/x-python",
   "name": "python",
   "nbconvert_exporter": "python",
   "pygments_lexer": "ipython3",
   "version": "3.9.2"
  }
 },
 "nbformat": 4,
 "nbformat_minor": 5
}
