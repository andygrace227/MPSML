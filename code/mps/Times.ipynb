{
 "cells": [
  {
   "cell_type": "code",
   "execution_count": 1,
   "id": "a4374d39-206c-4299-be2e-ed36ad5f62ed",
   "metadata": {},
   "outputs": [
    {
     "name": "stderr",
     "output_type": "stream",
     "text": [
      "/home/jszacha1/.local/lib/python3.6/site-packages/tensorflow/python/framework/dtypes.py:516: FutureWarning: Passing (type, 1) or '1type' as a synonym of type is deprecated; in a future version of numpy, it will be understood as (type, (1,)) / '(1,)type'.\n",
      "  _np_qint8 = np.dtype([(\"qint8\", np.int8, 1)])\n",
      "/home/jszacha1/.local/lib/python3.6/site-packages/tensorflow/python/framework/dtypes.py:517: FutureWarning: Passing (type, 1) or '1type' as a synonym of type is deprecated; in a future version of numpy, it will be understood as (type, (1,)) / '(1,)type'.\n",
      "  _np_quint8 = np.dtype([(\"quint8\", np.uint8, 1)])\n",
      "/home/jszacha1/.local/lib/python3.6/site-packages/tensorflow/python/framework/dtypes.py:518: FutureWarning: Passing (type, 1) or '1type' as a synonym of type is deprecated; in a future version of numpy, it will be understood as (type, (1,)) / '(1,)type'.\n",
      "  _np_qint16 = np.dtype([(\"qint16\", np.int16, 1)])\n",
      "/home/jszacha1/.local/lib/python3.6/site-packages/tensorflow/python/framework/dtypes.py:519: FutureWarning: Passing (type, 1) or '1type' as a synonym of type is deprecated; in a future version of numpy, it will be understood as (type, (1,)) / '(1,)type'.\n",
      "  _np_quint16 = np.dtype([(\"quint16\", np.uint16, 1)])\n",
      "/home/jszacha1/.local/lib/python3.6/site-packages/tensorflow/python/framework/dtypes.py:520: FutureWarning: Passing (type, 1) or '1type' as a synonym of type is deprecated; in a future version of numpy, it will be understood as (type, (1,)) / '(1,)type'.\n",
      "  _np_qint32 = np.dtype([(\"qint32\", np.int32, 1)])\n",
      "/home/jszacha1/.local/lib/python3.6/site-packages/tensorflow/python/framework/dtypes.py:525: FutureWarning: Passing (type, 1) or '1type' as a synonym of type is deprecated; in a future version of numpy, it will be understood as (type, (1,)) / '(1,)type'.\n",
      "  np_resource = np.dtype([(\"resource\", np.ubyte, 1)])\n",
      "/home/jszacha1/.local/lib/python3.6/site-packages/tensorboard/compat/tensorflow_stub/dtypes.py:541: FutureWarning: Passing (type, 1) or '1type' as a synonym of type is deprecated; in a future version of numpy, it will be understood as (type, (1,)) / '(1,)type'.\n",
      "  _np_qint8 = np.dtype([(\"qint8\", np.int8, 1)])\n",
      "/home/jszacha1/.local/lib/python3.6/site-packages/tensorboard/compat/tensorflow_stub/dtypes.py:542: FutureWarning: Passing (type, 1) or '1type' as a synonym of type is deprecated; in a future version of numpy, it will be understood as (type, (1,)) / '(1,)type'.\n",
      "  _np_quint8 = np.dtype([(\"quint8\", np.uint8, 1)])\n",
      "/home/jszacha1/.local/lib/python3.6/site-packages/tensorboard/compat/tensorflow_stub/dtypes.py:543: FutureWarning: Passing (type, 1) or '1type' as a synonym of type is deprecated; in a future version of numpy, it will be understood as (type, (1,)) / '(1,)type'.\n",
      "  _np_qint16 = np.dtype([(\"qint16\", np.int16, 1)])\n",
      "/home/jszacha1/.local/lib/python3.6/site-packages/tensorboard/compat/tensorflow_stub/dtypes.py:544: FutureWarning: Passing (type, 1) or '1type' as a synonym of type is deprecated; in a future version of numpy, it will be understood as (type, (1,)) / '(1,)type'.\n",
      "  _np_quint16 = np.dtype([(\"quint16\", np.uint16, 1)])\n",
      "/home/jszacha1/.local/lib/python3.6/site-packages/tensorboard/compat/tensorflow_stub/dtypes.py:545: FutureWarning: Passing (type, 1) or '1type' as a synonym of type is deprecated; in a future version of numpy, it will be understood as (type, (1,)) / '(1,)type'.\n",
      "  _np_qint32 = np.dtype([(\"qint32\", np.int32, 1)])\n",
      "/home/jszacha1/.local/lib/python3.6/site-packages/tensorboard/compat/tensorflow_stub/dtypes.py:550: FutureWarning: Passing (type, 1) or '1type' as a synonym of type is deprecated; in a future version of numpy, it will be understood as (type, (1,)) / '(1,)type'.\n",
      "  np_resource = np.dtype([(\"resource\", np.ubyte, 1)])\n"
     ]
    }
   ],
   "source": [
    "import tensorflow as tf\n",
    "import numpy as np \n",
    "import torch\n",
    "import time\n"
   ]
  },
  {
   "cell_type": "code",
   "execution_count": 45,
   "id": "bfdb6a78-3257-49ea-b433-bf29fa0325e7",
   "metadata": {},
   "outputs": [],
   "source": [
    "def instant_indices(num_independent_indices, i):\n",
    "    inds=[0 for i in range (num_independent_indices)]\n",
    "    for j in range (0, num_independent_indices):\n",
    "        inds[j] = i%2\n",
    "        i//=2\n",
    "    return inds"
   ]
  },
  {
   "cell_type": "code",
   "execution_count": 28,
   "id": "98076b60-8016-48d1-8e3f-87b3e01bcbbe",
   "metadata": {},
   "outputs": [
    {
     "name": "stdout",
     "output_type": "stream",
     "text": [
      "tensor(20.5380)\n",
      "0.001550912857055664\n"
     ]
    }
   ],
   "source": [
    "A = [[0 for i in range(2)]]*2\n",
    "for i in range (2):\n",
    "    for j in range(2):\n",
    "        A[i][j]=torch.rand((2,2,2,2))\n",
    "        \n",
    "start = time.time()\n",
    "const=torch.einsum('ijab, jicd, klba, lkdc', A[0][0], A[0][1], A[1][0], A[1][1])\n",
    "print(const)\n",
    "print(time.time()-start)"
   ]
  },
  {
   "cell_type": "code",
   "execution_count": 29,
   "id": "43a4de0c-6c43-4f75-b5fe-6286e4de0583",
   "metadata": {},
   "outputs": [
    {
     "name": "stdout",
     "output_type": "stream",
     "text": [
      "tensor(338.2816)\n",
      "0.0031538009643554688\n"
     ]
    }
   ],
   "source": [
    "B = [[0 for i in range(3)]]*3\n",
    "for i in range (3):\n",
    "    for j in range(3):\n",
    "        B[i][j]=torch.rand((2,2,2,2))\n",
    "\n",
    "start=time.time()\n",
    "const = torch.einsum('abjk, camn, bcpq, delj, fdom, efrp, ghkl, igno, hiqr', B[0][0], B[0][1], B[0][2], B[1][0], B[1][1], B[1][2], B[2][0], B[2][1], B[2][2])\n",
    "print(const)\n",
    "print(time.time()-start)"
   ]
  },
  {
   "cell_type": "code",
   "execution_count": 51,
   "id": "2b814e8a-8dfd-4d80-8299-eb49cf9bbccb",
   "metadata": {},
   "outputs": [
    {
     "name": "stdout",
     "output_type": "stream",
     "text": [
      "tensor(19997.0234)\n",
      "0.002582073211669922\n"
     ]
    }
   ],
   "source": [
    "C = [[0 for i in range(4)]]*4\n",
    "for i in range (4):\n",
    "    for j in range(4):\n",
    "        C[i][j]=torch.rand((2,2,2,2))\n",
    "\n",
    "start=time.time()\n",
    "instant_indices(32, 92892)\n",
    "X = torch.einsum('abeh, cail, dcmp, bdqt-> ehilmpqt', C[0][0], C[0][1], C[0][2], C[0][3])\n",
    "Y = torch.einsum('abfe, caji, dcnm, bdrq-> fejinmrq', C[1][0], C[1][1], C[1][2], C[1][3])\n",
    "Z = torch.einsum('abgf, cakj, dcon, bdsr-> gfkjonsr', C[2][0], C[2][1], C[2][2], C[2][3])\n",
    "W = torch.einsum('abhg, calk, dcpo, bdts-> hglkpots', C[3][0], C[3][1], C[3][2], C[3][3])\n",
    "const = torch.einsum('ehilmpqt, fejinmrq, gfkjonsr, hglkpots', X, Y, Z, W)\n",
    "print(const)\n",
    "print(time.time()-start)"
   ]
  },
  {
   "cell_type": "code",
   "execution_count": 52,
   "id": "04c8e023-b625-4522-a239-25dd6e58486a",
   "metadata": {},
   "outputs": [
    {
     "name": "stdout",
     "output_type": "stream",
     "text": [
      "tensor(43541392.)\n",
      "0.010931968688964844\n"
     ]
    }
   ],
   "source": [
    "D = [[0 for i in range(5)]]*5\n",
    "for i in range (5):\n",
    "    for j in range(5):\n",
    "        D[i][j]=torch.rand((2,2,2,2))\n",
    "\n",
    "start=time.time()\n",
    "\n",
    "instant_indices(50, 9332892)\n",
    "X = torch.einsum('abfg, cahi, dcjk, edlm, beno -> fghijklmno', D[0][0], D[0][1], D[0][2], D[0][3], D[0][4]) \n",
    "Y = torch.einsum('abpf, caqh, dcrj, edsl, betn -> pfqhrjsltn', D[1][0], D[1][1], D[1][2], D[1][3], D[1][4])\n",
    "XY = torch.einsum('fghijklmno, pfqhrjsltn -> gpiqkrmson', X, Y)\n",
    "Z = torch.einsum('abfp, cahq, dcjr, edls, bent -> fphqjrlsnt' , D[2][0], D[2][1], D[2][2], D[2][3], D[2][4])\n",
    "XYZ = torch.einsum('gpiqkrmson, fphqjrlsnt -> gfihkjmlon', XY, Z)\n",
    "U = torch.einsum('abpf, caqh, dcrj, edsl, betn -> pfqhrjsltn', D[3][0], D[3][1], D[3][2], D[3][3], D[3][4])\n",
    "XYZU = torch.einsum('gfihkjmlon, pfqhrjsltn -> gpiqkrmsot', XYZ, U)\n",
    "V = torch.einsum('abgp, caiq, dckr, edms, beot -> gpiqkrmsot', D[4][0], D[4][1], D[4][2], D[4][3], D[4][4])\n",
    "const = torch.einsum('gpiqkrmsot, gpiqkrmsot', XYZU, V)\n",
    "\n",
    "print(const)\n",
    "print(time.time()-start)"
   ]
  },
  {
   "cell_type": "code",
   "execution_count": 53,
   "id": "2b3109a4-d038-4ce4-95ab-95b492fa8973",
   "metadata": {},
   "outputs": [
    {
     "name": "stdout",
     "output_type": "stream",
     "text": [
      "tensor(1.1286e+12)\n",
      "0.01377105712890625\n"
     ]
    }
   ],
   "source": [
    "E = [[0 for i in range(6)]]*6\n",
    "for i in range (6):\n",
    "    for j in range(6):\n",
    "        E[i][j]=torch.rand((2,2,2,2))\n",
    "\n",
    "\n",
    "start=time.time()\n",
    "\n",
    "instant_indices(72, 9328432892)\n",
    "X = torch.einsum('abnh, caoi, dcpj, edqk, ferl, bfsm -> nhoipjqkrlsm', E[0][0], E[0][1], E[0][2], E[0][3], E[0][4], E[0][5]) \n",
    "Y = torch.einsum('abtn, cauo, dcvp, edwq, fexr, bfys -> tnuovpwqxrys', E[1][0], E[1][1], E[1][2], E[1][3], E[1][4], E[1][5])\n",
    "XY = torch.einsum('nhoipjqkrlsm, tnuovpwqxrys -> htiujvkwlxmy', X, Y)\n",
    "Z = torch.einsum('abnt, caou, dcpv, edqw, ferx, bfsy -> ntoupvqwrxsy', E[2][0], E[2][1], E[2][2], E[2][3], E[2][4], E[2][5])\n",
    "XYZ = torch.einsum('htiujvkwlxmy, ntoupvqwrxsy -> hniojpkqlrms', XY, Z)\n",
    "U = torch.einsum('abtn, cauo, dcvp, edwq, fexr, bfys -> tnuovpwqxrys', E[3][0], E[3][1], E[3][2], E[3][3], E[3][4], E[3][5])\n",
    "XYZU = torch.einsum('hniojpkqlrms, tnuovpwqxrys -> htiujvkwlxmy', XYZ, U)\n",
    "V = torch.einsum('abnt, caou, dcpv, edqw, ferx, bfsy -> ntoupvqwrxsy', E[4][0], E[4][1], E[4][2], E[4][3], E[4][4], E[4][5])\n",
    "XYZUV = torch.einsum('htiujvkwlxmy, ntoupvqwrxsy -> hniojpkqlrms', XYZU, V)\n",
    "W = torch.einsum('abhn, caio, dcjp, edkq, felr, bfms -> hniojpkqlrms', E[5][0], E[5][1], E[5][2], E[5][3], E[5][4], E[5][5])\n",
    "const = torch.einsum('hniojpkqlrms, hniojpkqlrms', XYZUV, W)\n",
    "print(const)\n",
    "print(time.time()-start)"
   ]
  },
  {
   "cell_type": "code",
   "execution_count": null,
   "id": "201c7be7-0110-4442-af15-1e09d62b9610",
   "metadata": {},
   "outputs": [],
   "source": []
  },
  {
   "cell_type": "code",
   "execution_count": null,
   "id": "58f94326-b2e5-4092-b7c4-7ddb723c0d29",
   "metadata": {},
   "outputs": [],
   "source": []
  }
 ],
 "metadata": {
  "kernelspec": {
   "display_name": "Python 3",
   "language": "python",
   "name": "python3"
  },
  "language_info": {
   "codemirror_mode": {
    "name": "ipython",
    "version": 3
   },
   "file_extension": ".py",
   "mimetype": "text/x-python",
   "name": "python",
   "nbconvert_exporter": "python",
   "pygments_lexer": "ipython3",
   "version": "3.6.9"
  }
 },
 "nbformat": 4,
 "nbformat_minor": 5
}
