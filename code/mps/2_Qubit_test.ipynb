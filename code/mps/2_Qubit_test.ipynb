{
 "cells": [
  {
   "cell_type": "code",
   "execution_count": 1,
   "metadata": {},
   "outputs": [],
   "source": [
    "import torch \n",
    "import torch.nn as nn \n",
    "import torch.nn.functional as f\n",
    "import numpy as np \n",
    "from torch.utils.data import TensorDataset, DataLoader\n",
    "import matplotlib.pyplot as plt "
   ]
  },
  {
   "cell_type": "code",
   "execution_count": 40,
   "metadata": {},
   "outputs": [],
   "source": [
    "data = np.load('2_qubit_data.npz')"
   ]
  },
  {
   "cell_type": "code",
   "execution_count": 41,
   "metadata": {},
   "outputs": [
    {
     "data": {
      "text/plain": [
       "['ground_state', 'fields']"
      ]
     },
     "execution_count": 41,
     "metadata": {},
     "output_type": "execute_result"
    }
   ],
   "source": [
    "data.files"
   ]
  },
  {
   "cell_type": "code",
   "execution_count": 42,
   "metadata": {},
   "outputs": [
    {
     "data": {
      "text/plain": [
       "(100, 4)"
      ]
     },
     "execution_count": 42,
     "metadata": {},
     "output_type": "execute_result"
    }
   ],
   "source": [
    "data['ground_state'].shape"
   ]
  },
  {
   "cell_type": "code",
   "execution_count": 120,
   "metadata": {},
   "outputs": [],
   "source": [
    "training_data_x = data['ground_state'][:80]\n",
    "training_data_y = data['fields'][:80][:,[0,2,4]]\n",
    "val_data_x = data['ground_state'][80:]\n",
    "val_data_y = data['fields'][80:][:,[0,2,4]]"
   ]
  },
  {
   "cell_type": "code",
   "execution_count": 121,
   "metadata": {},
   "outputs": [
    {
     "name": "stdout",
     "output_type": "stream",
     "text": [
      "(20, 4)\n",
      "[[1.         1.77777778 0.        ]\n",
      " [1.         1.77777778 0.22222222]\n",
      " [1.         1.77777778 0.44444444]\n",
      " [1.         1.77777778 0.66666667]\n",
      " [1.         1.77777778 0.88888889]\n",
      " [1.         1.77777778 1.11111111]\n",
      " [1.         1.77777778 1.33333333]\n",
      " [1.         1.77777778 1.55555556]\n",
      " [1.         1.77777778 1.77777778]\n",
      " [1.         1.77777778 2.        ]\n",
      " [1.         2.         0.        ]\n",
      " [1.         2.         0.22222222]\n",
      " [1.         2.         0.44444444]\n",
      " [1.         2.         0.66666667]\n",
      " [1.         2.         0.88888889]\n",
      " [1.         2.         1.11111111]\n",
      " [1.         2.         1.33333333]\n",
      " [1.         2.         1.55555556]\n",
      " [1.         2.         1.77777778]\n",
      " [1.         2.         2.        ]]\n"
     ]
    }
   ],
   "source": [
    "print(val_data_x.shape)\n",
    "print(val_data_y)"
   ]
  },
  {
   "cell_type": "code",
   "execution_count": 122,
   "metadata": {},
   "outputs": [
    {
     "data": {
      "text/plain": [
       "(80, 4)"
      ]
     },
     "execution_count": 122,
     "metadata": {},
     "output_type": "execute_result"
    }
   ],
   "source": [
    "training_data_x.shape"
   ]
  },
  {
   "cell_type": "code",
   "execution_count": 123,
   "metadata": {},
   "outputs": [],
   "source": [
    "training_data = TensorDataset(torch.Tensor(training_data_x), torch.Tensor(training_data_y))\n",
    "validation_data = TensorDataset(torch.Tensor(val_data_x), torch.Tensor(val_data_y))"
   ]
  },
  {
   "cell_type": "code",
   "execution_count": 124,
   "metadata": {},
   "outputs": [],
   "source": [
    "training_loader = DataLoader(training_data, batch_size = 16)\n",
    "val_loader = DataLoader(validation_data, batch_size = 36)"
   ]
  },
  {
   "cell_type": "code",
   "execution_count": 125,
   "metadata": {},
   "outputs": [
    {
     "name": "stdout",
     "output_type": "stream",
     "text": [
      "torch.Size([16, 4])\n",
      "torch.Size([16, 3])\n",
      "torch.Size([16, 4])\n",
      "torch.Size([16, 3])\n",
      "torch.Size([16, 4])\n",
      "torch.Size([16, 3])\n",
      "torch.Size([16, 4])\n",
      "torch.Size([16, 3])\n",
      "torch.Size([16, 4])\n",
      "torch.Size([16, 3])\n"
     ]
    }
   ],
   "source": [
    "for i,(wf, fields,) in enumerate(training_loader):\n",
    "    print(wf.shape)\n",
    "    print(fields.shape)"
   ]
  },
  {
   "cell_type": "code",
   "execution_count": 11,
   "metadata": {},
   "outputs": [],
   "source": [
    "def seq_gen(num_q):\n",
    "    if num_q == 2:\n",
    "        return ['00','01', '10','11']\n",
    "    else:\n",
    "        temp = []\n",
    "        \n",
    "        smaller_vals = seq_gen(num_q-1)\n",
    "        for i in ['0','1']:\n",
    "            for each in smaller_vals:\n",
    "                temp.append(i+each)\n",
    "        return temp "
   ]
  },
  {
   "cell_type": "code",
   "execution_count": 126,
   "metadata": {},
   "outputs": [],
   "source": [
    "class MPS_autoencoder(nn.Module):\n",
    "    def __init__(self):\n",
    "        super(MPS_autoencoder, self).__init__()\n",
    "        \n",
    "        self.encoder = nn.Sequential(nn.Linear(3,16),\n",
    "                                nn.ReLU(),\n",
    "                                nn.Linear(16,8)\n",
    "                               )\n",
    "    def encode(self, x):\n",
    "        encoded = self.encoder(x)\n",
    "        temp = encoded.view(-1, 2,2,2)\n",
    "#         print(temp.shape)\n",
    "        spin_up, spin_down = torch.split(temp, 1, dim = 1)\n",
    "\n",
    "        return spin_up, spin_down\n",
    "    def decode(self, spin_up, spin_down):\n",
    "        # spin_up and spin_down (1,2,2)\n",
    "#         mps = {'0':spin_up, '1':spin_down}\n",
    "        mps = [spin_up, spin_down]        \n",
    "        coeffs = [] \n",
    "        \n",
    "#         states = seq_gen(2)\n",
    "#         for state in states:\n",
    "#             mat = mps[state[0]]\n",
    "            \n",
    "#             for site in state[1:]:\n",
    "#                 mat = torch.matmul(mat, mps[site])\n",
    "#             diagonal = torch.diagonal(mat, dim1=-1,dim2=-2)\n",
    "#             coeffs.append(torch.sum(diagonal, dim = -1, keepdim = True))\n",
    "        \n",
    "            \n",
    "        for i in range(2):\n",
    "            for j in range(2):\n",
    "                mat = torch.matmul(mps[i], mps[j])\n",
    "                diagonal = torch.diagonal(mat , dim1=-1, dim2=-2)\n",
    "                coeffs.append(torch.sum(diagonal, dim = -1, keepdim = True))\n",
    "        \n",
    "        c_i = coeffs[0]\n",
    "        for i in coeffs[1:]:\n",
    "            c_i = torch.cat((c_i, i), dim = 1)\n",
    "        return c_i.squeeze()\n",
    "    \n",
    "    def forward(self, x):\n",
    "        spin_up, spin_down = self.encode(x)\n",
    "        gs = self.decode(spin_up, spin_down)\n",
    "#         print(torch.norm(gs, dim = 1).view(-1,1).shape)\n",
    "        gs = gs / torch.norm(gs, dim = 1).view(-1,1)\n",
    "        return gs"
   ]
  },
  {
   "cell_type": "code",
   "execution_count": 127,
   "metadata": {},
   "outputs": [
    {
     "name": "stdout",
     "output_type": "stream",
     "text": [
      "Epoch 1 : 0.13737019002437592\n",
      "Epoch 11 : 0.0034235646831803023\n",
      "Epoch 21 : 0.0013732730032643304\n",
      "Epoch 31 : 0.000958823754626792\n",
      "Epoch 41 : 0.0007515706100093666\n",
      "Epoch 51 : 0.0006388937406882178\n",
      "Epoch 61 : 0.0005515202909009531\n",
      "Epoch 71 : 0.00045577145647257566\n",
      "Epoch 81 : 0.0003415234656131361\n",
      "Epoch 91 : 0.00021838934408151544\n",
      "Epoch 101 : 0.0001290649212023709\n",
      "Epoch 111 : 0.0008863025926984846\n",
      "Epoch 121 : 0.0001132978723035194\n",
      "Epoch 131 : 6.357299716910347e-05\n",
      "Epoch 141 : 0.00022687121527269482\n",
      "Epoch 151 : 5.7259979075752196e-05\n",
      "Epoch 161 : 3.885745281877462e-05\n",
      "Epoch 171 : 0.00046149680711096155\n",
      "Epoch 181 : 4.865696082561044e-05\n",
      "Epoch 191 : 2.8356862640066537e-05\n",
      "Epoch 201 : 7.767187344143167e-05\n",
      "Epoch 211 : 5.118376357131638e-05\n",
      "Epoch 221 : 2.5560339781804942e-05\n",
      "Epoch 231 : 2.7390567993279546e-05\n",
      "Epoch 241 : 0.000343644945678534\n",
      "Epoch 251 : 3.4301742925890724e-05\n",
      "Epoch 261 : 2.0543496793834494e-05\n",
      "Epoch 271 : 0.00010101677798957098\n",
      "Epoch 281 : 4.069356164109195e-05\n",
      "Epoch 291 : 1.9061921921093018e-05\n",
      "Epoch 301 : 2.7644631700241007e-05\n",
      "Epoch 311 : 0.00026282911203452387\n",
      "Epoch 321 : 2.1882986220589374e-05\n",
      "Epoch 331 : 1.9780144066317006e-05\n",
      "Epoch 341 : 0.00031569469720125196\n",
      "Epoch 351 : 3.454829748079646e-05\n",
      "Epoch 361 : 1.342700343229808e-05\n",
      "Epoch 371 : 1.7303358799836132e-05\n",
      "Epoch 381 : 0.00025358416078233856\n",
      "Epoch 391 : 2.1757901049568317e-05\n",
      "Epoch 401 : 1.4586649740522262e-05\n",
      "Epoch 411 : 0.00025367721755173986\n",
      "Epoch 421 : 3.670951173262438e-05\n",
      "Epoch 431 : 1.3257648424769286e-05\n",
      "Epoch 441 : 1.0287041732226498e-05\n",
      "Epoch 451 : 3.261031088186428e-05\n",
      "Epoch 461 : 0.0002122989077179227\n",
      "Epoch 471 : 1.3344538456294685e-05\n",
      "Epoch 481 : 9.64352202572627e-06\n",
      "Epoch 491 : 1.1049869408452651e-05\n",
      "Epoch 501 : 0.00018600218718347605\n",
      "Epoch 511 : 5.4959687258815396e-05\n",
      "Epoch 521 : 3.3010004335665145e-05\n",
      "Epoch 531 : 1.1194288344995584e-05\n",
      "Epoch 541 : 7.479818759748014e-06\n",
      "Epoch 551 : 8.25396546133561e-06\n",
      "Epoch 561 : 0.00010907179821515456\n",
      "Epoch 571 : 5.270369656500407e-05\n",
      "Epoch 581 : 2.0256254538253414e-05\n",
      "Epoch 591 : 7.352331704169046e-06\n",
      "Epoch 601 : 7.939665920275729e-06\n",
      "Epoch 611 : 4.22536631958792e-05\n",
      "Epoch 621 : 3.6689128319267186e-05\n",
      "Epoch 631 : 1.0495828428247478e-05\n",
      "Epoch 641 : 0.00011412073527026224\n",
      "Epoch 651 : 5.382560448197182e-05\n",
      "Epoch 661 : 1.3277867037686519e-05\n",
      "Epoch 671 : 5.485226574819535e-06\n",
      "Epoch 681 : 5.797104313387535e-06\n",
      "Epoch 691 : 3.944842119381064e-05\n",
      "Epoch 701 : 0.0005288990447297693\n",
      "Epoch 711 : 7.18320156011032e-05\n",
      "Epoch 721 : 6.87025856677792e-05\n",
      "Epoch 731 : 4.729648226202699e-05\n",
      "Epoch 741 : 8.470450993627309e-05\n",
      "Epoch 751 : 5.978022036288166e-05\n",
      "Epoch 761 : 6.35522505035624e-05\n",
      "Epoch 771 : 4.6420430226135065e-05\n",
      "Epoch 781 : 3.2254309462587114e-05\n",
      "Epoch 791 : 3.443536079430487e-05\n",
      "Epoch 801 : 2.4627371931273957e-05\n",
      "Epoch 811 : 2.2972521765041166e-05\n",
      "Epoch 821 : 1.41627446282655e-05\n",
      "Epoch 831 : 5.595435141003691e-06\n",
      "Epoch 841 : 7.606355393363629e-06\n",
      "Epoch 851 : 6.699862387904432e-05\n",
      "Epoch 861 : 0.00011714915563061367\n",
      "Epoch 871 : 3.149630010739202e-05\n",
      "Epoch 881 : 8.793129381956533e-06\n",
      "Epoch 891 : 5.694484389096033e-06\n",
      "Epoch 901 : 1.0064582420454827e-05\n",
      "Epoch 911 : 0.00017590546885912773\n",
      "Epoch 921 : 4.552367936412338e-05\n",
      "Epoch 931 : 2.9322761110961438e-05\n",
      "Epoch 941 : 7.302318863366963e-06\n",
      "Epoch 951 : 4.882850134890759e-06\n",
      "Epoch 961 : 5.153766869625542e-06\n",
      "Epoch 971 : 3.4708661769400353e-05\n",
      "Epoch 981 : 0.000148946771514602\n",
      "Epoch 991 : 1.8616994020703713e-05\n",
      "Epoch 1001 : 5.02850898556062e-06\n"
     ]
    }
   ],
   "source": [
    "device = torch.device(\"cuda\" if torch.cuda.is_available() else \"cpu\")\n",
    "model = MPS_autoencoder()\n",
    "optimizer = torch.optim.Adam(model.parameters(), lr=1e-2)\n",
    "loss_func = nn.MSELoss()\n",
    "for epoch in range(1001):\n",
    "    total = 0\n",
    "    for i,(wf,fields,) in enumerate(training_loader):\n",
    "        gs = model(fields)\n",
    "        \n",
    "        loss = loss_func(gs, wf)\n",
    "        \n",
    "        optimizer.zero_grad()\n",
    "        loss.backward()\n",
    "        optimizer.step()\n",
    "        total += loss.item()\n",
    "    if epoch % 10 == 0:\n",
    "        print(\"Epoch {} :\".format(epoch + 1), total / len(training_loader))"
   ]
  },
  {
   "cell_type": "code",
   "execution_count": 128,
   "metadata": {},
   "outputs": [
    {
     "name": "stdout",
     "output_type": "stream",
     "text": [
      "9.803861757973209e-05\n"
     ]
    }
   ],
   "source": [
    "total = 0\n",
    "with torch.no_grad():\n",
    "    for i,(wf,fields,) in enumerate(val_loader):\n",
    "        gs = model(fields)\n",
    "        loss = loss_func(gs, wf)\n",
    "        total += loss.item()\n",
    "    \n",
    "print(total)"
   ]
  },
  {
   "cell_type": "code",
   "execution_count": 130,
   "metadata": {},
   "outputs": [
    {
     "name": "stdout",
     "output_type": "stream",
     "text": [
      "Fields:\t tensor([1.0000, 1.7778, 0.0000])\n",
      "Wavefunction:\t tensor([0.6104, 0.3570, 0.3570, 0.6104])\n",
      "Reconstructed:\t tensor([0.6187, 0.3408, 0.3408, 0.6204])\n",
      "********************************************************************************\n",
      "Fields:\t tensor([1.0000, 1.7778, 0.2222])\n",
      "Wavefunction:\t tensor([0.7272, 0.3484, 0.3484, 0.4779])\n",
      "Reconstructed:\t tensor([0.7361, 0.3394, 0.3394, 0.4774])\n",
      "********************************************************************************\n",
      "Fields:\t tensor([1.0000, 1.7778, 0.4444])\n",
      "Wavefunction:\t tensor([0.8080, 0.3285, 0.3285, 0.3624])\n",
      "Reconstructed:\t tensor([0.8209, 0.3213, 0.3213, 0.3459])\n",
      "********************************************************************************\n",
      "Fields:\t tensor([1.0000, 1.7778, 0.6667])\n",
      "Wavefunction:\t tensor([0.8584, 0.3057, 0.3057, 0.2763])\n",
      "Reconstructed:\t tensor([0.8611, 0.3025, 0.3025, 0.2745])\n",
      "********************************************************************************\n",
      "Fields:\t tensor([1.0000, 1.7778, 0.8889])\n",
      "Wavefunction:\t tensor([0.8899, 0.2842, 0.2842, 0.2154])\n",
      "Reconstructed:\t tensor([0.8904, 0.2836, 0.2836, 0.2155])\n",
      "********************************************************************************\n",
      "Fields:\t tensor([1.0000, 1.7778, 1.1111])\n",
      "Wavefunction:\t tensor([0.9108, 0.2653, 0.2653, 0.1721])\n",
      "Reconstructed:\t tensor([0.9103, 0.2669, 0.2669, 0.1699])\n",
      "********************************************************************************\n",
      "Fields:\t tensor([1.0000, 1.7778, 1.3333])\n",
      "Wavefunction:\t tensor([0.9255, 0.2487, 0.2487, 0.1406])\n",
      "Reconstructed:\t tensor([0.9254, 0.2499, 0.2499, 0.1371])\n",
      "********************************************************************************\n",
      "Fields:\t tensor([1.0000, 1.7778, 1.5556])\n",
      "Wavefunction:\t tensor([0.9363, 0.2341, 0.2341, 0.1170])\n",
      "Reconstructed:\t tensor([0.9373, 0.2331, 0.2331, 0.1134])\n",
      "********************************************************************************\n",
      "Fields:\t tensor([1.0000, 1.7778, 1.7778])\n",
      "Wavefunction:\t tensor([0.9446, 0.2212, 0.2212, 0.0990])\n",
      "Reconstructed:\t tensor([0.9475, 0.2158, 0.2158, 0.0949])\n",
      "********************************************************************************\n",
      "Fields:\t tensor([1.0000, 1.7778, 2.0000])\n",
      "Wavefunction:\t tensor([0.9512, 0.2097, 0.2097, 0.0849])\n",
      "Reconstructed:\t tensor([0.9534, 0.2047, 0.2047, 0.0845])\n",
      "********************************************************************************\n"
     ]
    }
   ],
   "source": [
    "with torch.no_grad():\n",
    "    for i,(wf, fields,) in enumerate(val_loader):\n",
    "        gs = model(fields)\n",
    "        for j in range(10):\n",
    "            print(\"Fields:\\t\", fields[j])\n",
    "            print(\"Wavefunction:\\t\", wf[j].data) \n",
    "            print(\"Reconstructed:\\t\", gs[j])\n",
    "            print(\"*\"*80)\n",
    "        break"
   ]
  },
  {
   "cell_type": "code",
   "execution_count": null,
   "metadata": {},
   "outputs": [],
   "source": []
  }
 ],
 "metadata": {
  "kernelspec": {
   "display_name": "Python 3",
   "language": "python",
   "name": "python3"
  },
  "language_info": {
   "codemirror_mode": {
    "name": "ipython",
    "version": 3
   },
   "file_extension": ".py",
   "mimetype": "text/x-python",
   "name": "python",
   "nbconvert_exporter": "python",
   "pygments_lexer": "ipython3",
   "version": "3.6.9"
  }
 },
 "nbformat": 4,
 "nbformat_minor": 4
}
