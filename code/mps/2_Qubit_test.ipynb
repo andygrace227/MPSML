{
 "cells": [
  {
   "cell_type": "code",
   "execution_count": 1,
   "metadata": {},
   "outputs": [],
   "source": [
    "import torch \n",
    "import torch.nn as nn \n",
    "import torch.nn.functional as f\n",
    "import numpy as np \n",
    "from torch.utils.data import TensorDataset, DataLoader\n",
    "import matplotlib.pyplot as plt "
   ]
  },
  {
   "cell_type": "code",
   "execution_count": 2,
   "metadata": {},
   "outputs": [],
   "source": [
    "data = np.load('2_qubit_crit_data.npz')"
   ]
  },
  {
   "cell_type": "code",
   "execution_count": 3,
   "metadata": {},
   "outputs": [
    {
     "data": {
      "text/plain": [
       "['ground_state', 'fields']"
      ]
     },
     "execution_count": 3,
     "metadata": {},
     "output_type": "execute_result"
    }
   ],
   "source": [
    "data.files"
   ]
  },
  {
   "cell_type": "code",
   "execution_count": 4,
   "metadata": {},
   "outputs": [
    {
     "data": {
      "text/plain": [
       "(1000, 4)"
      ]
     },
     "execution_count": 4,
     "metadata": {},
     "output_type": "execute_result"
    }
   ],
   "source": [
    "data['ground_state'].shape"
   ]
  },
  {
   "cell_type": "code",
   "execution_count": 5,
   "metadata": {},
   "outputs": [],
   "source": [
    "training_data_x = data['ground_state'][:80]\n",
    "training_data_y = data['fields'][:80][:,[0,2,4]]\n",
    "val_data_x = data['ground_state'][80:]\n",
    "val_data_y = data['fields'][80:][:,[0,2,4]]"
   ]
  },
  {
   "cell_type": "code",
   "execution_count": 6,
   "metadata": {},
   "outputs": [
    {
     "name": "stdout",
     "output_type": "stream",
     "text": [
      "(920, 4)\n",
      "[[1.         0.16935936 0.01      ]\n",
      " [1.         0.17135135 0.01      ]\n",
      " [1.         0.17334334 0.01      ]\n",
      " ...\n",
      " [1.         1.99601602 0.01      ]\n",
      " [1.         1.99800801 0.01      ]\n",
      " [1.         2.         0.01      ]]\n"
     ]
    }
   ],
   "source": [
    "print(val_data_x.shape)\n",
    "print(val_data_y)"
   ]
  },
  {
   "cell_type": "code",
   "execution_count": 7,
   "metadata": {},
   "outputs": [
    {
     "data": {
      "text/plain": [
       "(80, 4)"
      ]
     },
     "execution_count": 7,
     "metadata": {},
     "output_type": "execute_result"
    }
   ],
   "source": [
    "training_data_x.shape"
   ]
  },
  {
   "cell_type": "code",
   "execution_count": 8,
   "metadata": {},
   "outputs": [],
   "source": [
    "training_data = TensorDataset(torch.Tensor(training_data_x), torch.Tensor(training_data_y))\n",
    "validation_data = TensorDataset(torch.Tensor(val_data_x), torch.Tensor(val_data_y))"
   ]
  },
  {
   "cell_type": "code",
   "execution_count": 9,
   "metadata": {},
   "outputs": [],
   "source": [
    "training_loader = DataLoader(training_data, batch_size = 16)\n",
    "val_loader = DataLoader(validation_data, batch_size = 36)"
   ]
  },
  {
   "cell_type": "code",
   "execution_count": 10,
   "metadata": {},
   "outputs": [
    {
     "name": "stdout",
     "output_type": "stream",
     "text": [
      "torch.Size([16, 4])\n",
      "torch.Size([16, 3])\n",
      "torch.Size([16, 4])\n",
      "torch.Size([16, 3])\n",
      "torch.Size([16, 4])\n",
      "torch.Size([16, 3])\n",
      "torch.Size([16, 4])\n",
      "torch.Size([16, 3])\n",
      "torch.Size([16, 4])\n",
      "torch.Size([16, 3])\n"
     ]
    }
   ],
   "source": [
    "for i,(wf, fields,) in enumerate(training_loader):\n",
    "    print(wf.shape)\n",
    "    print(fields.shape)"
   ]
  },
  {
   "cell_type": "code",
   "execution_count": 11,
   "metadata": {},
   "outputs": [],
   "source": [
    "def seq_gen(num_q):\n",
    "    if num_q == 2:\n",
    "        return ['00','01', '10','11']\n",
    "    else:\n",
    "        temp = []\n",
    "        \n",
    "        smaller_vals = seq_gen(num_q-1)\n",
    "        for i in ['0','1']:\n",
    "            for each in smaller_vals:\n",
    "                temp.append(i+each)\n",
    "        return temp "
   ]
  },
  {
   "cell_type": "code",
   "execution_count": 12,
   "metadata": {},
   "outputs": [],
   "source": [
    "class MPS_autoencoder(nn.Module):\n",
    "    def __init__(self):\n",
    "        super(MPS_autoencoder, self).__init__()\n",
    "        \n",
    "        self.encoder = nn.Sequential(nn.Linear(3,16),\n",
    "                                nn.ReLU(),\n",
    "                                nn.Linear(16,8)\n",
    "                               )\n",
    "    def encode(self, x):\n",
    "        encoded = self.encoder(x)\n",
    "        temp = encoded.view(-1, 2,2,2)\n",
    "#         print(temp.shape)\n",
    "        spin_up, spin_down = torch.split(temp, 1, dim = 1)\n",
    "\n",
    "        return spin_up, spin_down\n",
    "    def decode(self, spin_up, spin_down):\n",
    "        # spin_up and spin_down (1,2,2)\n",
    "#         mps = {'0':spin_up, '1':spin_down}\n",
    "        mps = [spin_up, spin_down]        \n",
    "        coeffs = [] \n",
    "        \n",
    "#         states = seq_gen(2)\n",
    "#         for state in states:\n",
    "#             mat = mps[state[0]]\n",
    "            \n",
    "#             for site in state[1:]:\n",
    "#                 mat = torch.matmul(mat, mps[site])\n",
    "#             diagonal = torch.diagonal(mat, dim1=-1,dim2=-2)\n",
    "#             coeffs.append(torch.sum(diagonal, dim = -1, keepdim = True))\n",
    "        \n",
    "            \n",
    "        for i in range(2):\n",
    "            for j in range(2):\n",
    "                mat = torch.matmul(mps[i], mps[j])\n",
    "                diagonal = torch.diagonal(mat , dim1=-1, dim2=-2)\n",
    "                coeffs.append(torch.sum(diagonal, dim = -1, keepdim = True))\n",
    "        \n",
    "        c_i = coeffs[0]\n",
    "        for i in coeffs[1:]:\n",
    "            c_i = torch.cat((c_i, i), dim = 1)\n",
    "        return c_i.squeeze()\n",
    "    \n",
    "    def forward(self, x):\n",
    "        spin_up, spin_down = self.encode(x)\n",
    "        gs = self.decode(spin_up, spin_down)\n",
    "#         print(torch.norm(gs, dim = 1).view(-1,1).shape)\n",
    "        gs = gs / torch.norm(gs, dim = 1).view(-1,1)\n",
    "        return gs"
   ]
  },
  {
   "cell_type": "code",
   "execution_count": 13,
   "metadata": {},
   "outputs": [
    {
     "name": "stderr",
     "output_type": "stream",
     "text": [
      "/import/linux/home1/jszacha1/research/MPSML/code/mps/virtual_env/lib/python3.7/site-packages/torch/cuda/__init__.py:52: UserWarning: CUDA initialization: CUDA unknown error - this may be due to an incorrectly set up environment, e.g. changing env variable CUDA_VISIBLE_DEVICES after program start. Setting the available devices to be zero. (Triggered internally at  /pytorch/c10/cuda/CUDAFunctions.cpp:109.)\n",
      "  return torch._C._cuda_getDeviceCount() > 0\n"
     ]
    },
    {
     "name": "stdout",
     "output_type": "stream",
     "text": [
      "Epoch 1 : 0.1339497348293662\n",
      "Epoch 11 : 0.002605735615361482\n",
      "Epoch 21 : 0.002357731034862809\n",
      "Epoch 31 : 0.0021125629195012153\n",
      "Epoch 41 : 0.0018221224803710357\n",
      "Epoch 51 : 0.0014371862285770475\n",
      "Epoch 61 : 0.0007816101337084546\n",
      "Epoch 71 : 8.905008544388693e-05\n",
      "Epoch 81 : 6.583329723071074e-05\n",
      "Epoch 91 : 6.324484038486844e-05\n",
      "Epoch 101 : 6.0833810857729985e-05\n",
      "Epoch 111 : 5.792274205305148e-05\n",
      "Epoch 121 : 5.5666594926151446e-05\n",
      "Epoch 131 : 5.214515022089472e-05\n",
      "Epoch 141 : 4.966433552908711e-05\n",
      "Epoch 151 : 4.6704159922228426e-05\n",
      "Epoch 161 : 4.419503120516311e-05\n",
      "Epoch 171 : 4.1661814520921325e-05\n",
      "Epoch 181 : 3.973133607360069e-05\n",
      "Epoch 191 : 4.0405213985650336e-05\n",
      "Epoch 201 : 5.31418516402482e-05\n",
      "Epoch 211 : 0.00013129858089087066\n",
      "Epoch 221 : 9.637874100008049e-05\n",
      "Epoch 231 : 2.6255233933625277e-05\n",
      "Epoch 241 : 2.7598055748967453e-05\n",
      "Epoch 251 : 4.521108348853886e-05\n",
      "Epoch 261 : 8.993109440780245e-05\n",
      "Epoch 271 : 3.803054878517287e-05\n",
      "Epoch 281 : 3.2115918656927533e-05\n",
      "Epoch 291 : 4.112551687285304e-05\n",
      "Epoch 301 : 4.978450633643661e-05\n",
      "Epoch 311 : 3.587426654121373e-05\n",
      "Epoch 321 : 3.252619753766339e-05\n",
      "Epoch 331 : 3.601071912271436e-05\n",
      "Epoch 341 : 4.151014582021162e-05\n",
      "Epoch 351 : 3.904364129994065e-05\n",
      "Epoch 361 : 3.20452618325362e-05\n",
      "Epoch 371 : 2.8564463354996407e-05\n",
      "Epoch 381 : 3.00255687761819e-05\n",
      "Epoch 391 : 2.9198796983109788e-05\n",
      "Epoch 401 : 2.2275676019489766e-05\n",
      "Epoch 411 : 2.4344411940546706e-05\n",
      "Epoch 421 : 3.3250213891733435e-05\n",
      "Epoch 431 : 3.5155290606780906e-05\n",
      "Epoch 441 : 2.566972416389035e-05\n",
      "Epoch 451 : 2.127694860973861e-05\n",
      "Epoch 461 : 2.356692002649652e-05\n",
      "Epoch 471 : 2.9977479789522478e-05\n",
      "Epoch 481 : 2.9129861286492086e-05\n",
      "Epoch 491 : 2.2137097766972146e-05\n",
      "Epoch 501 : 1.88901129149599e-05\n",
      "Epoch 511 : 2.655727876117453e-05\n",
      "Epoch 521 : 9.643868725106586e-05\n",
      "Epoch 531 : 6.811507773818448e-06\n",
      "Epoch 541 : 3.7270571510816806e-06\n",
      "Epoch 551 : 3.5796758538708674e-06\n",
      "Epoch 561 : 3.5025344914174638e-06\n",
      "Epoch 571 : 3.442252977947646e-06\n",
      "Epoch 581 : 3.423235011723591e-06\n",
      "Epoch 591 : 3.951106873500976e-06\n",
      "Epoch 601 : 2.9786823671429374e-05\n",
      "Epoch 611 : 0.00010895416417042725\n",
      "Epoch 621 : 1.129995125666028e-05\n",
      "Epoch 631 : 1.0010814867200679e-05\n",
      "Epoch 641 : 1.9641009021142964e-05\n",
      "Epoch 651 : 9.112627303693443e-05\n",
      "Epoch 661 : 1.1329540029691998e-05\n",
      "Epoch 671 : 3.2486343116033824e-06\n",
      "Epoch 681 : 3.26076283272414e-06\n",
      "Epoch 691 : 3.2017376497606164e-06\n",
      "Epoch 701 : 3.1939477253217775e-06\n",
      "Epoch 711 : 3.4361831694695867e-06\n",
      "Epoch 721 : 1.298705057877214e-05\n",
      "Epoch 731 : 0.00024092143939924426\n",
      "Epoch 741 : 4.985992495676328e-06\n",
      "Epoch 751 : 4.017073013073968e-06\n",
      "Epoch 761 : 7.767982333461987e-06\n",
      "Epoch 771 : 0.0001909724698634818\n",
      "Epoch 781 : 1.1286577773717e-05\n",
      "Epoch 791 : 3.3789554208851768e-06\n",
      "Epoch 801 : 3.2379928484260746e-06\n",
      "Epoch 811 : 3.1936212963046273e-06\n",
      "Epoch 821 : 3.291082816758717e-06\n",
      "Epoch 831 : 5.573570615524659e-06\n",
      "Epoch 841 : 8.22870741103543e-05\n",
      "Epoch 851 : 9.520635308035707e-06\n",
      "Epoch 861 : 3.2435922548756934e-06\n",
      "Epoch 871 : 3.1318106266553515e-06\n",
      "Epoch 881 : 3.077237499837793e-06\n",
      "Epoch 891 : 3.2543290103603794e-06\n",
      "Epoch 901 : 2.1258766992104938e-05\n",
      "Epoch 911 : 6.815183539856661e-05\n",
      "Epoch 921 : 2.534309178372496e-05\n",
      "Epoch 931 : 3.6982307392463554e-05\n",
      "Epoch 941 : 2.662577426235657e-05\n",
      "Epoch 951 : 4.730448767986672e-06\n",
      "Epoch 961 : 5.163288960829959e-06\n",
      "Epoch 971 : 5.54116980993058e-06\n",
      "Epoch 981 : 7.640160984010436e-05\n",
      "Epoch 991 : 4.3053195622633214e-05\n",
      "Epoch 1001 : 3.720557879205444e-06\n"
     ]
    }
   ],
   "source": [
    "device = torch.device(\"cuda\" if torch.cuda.is_available() else \"cpu\")\n",
    "model = MPS_autoencoder()\n",
    "optimizer = torch.optim.Adam(model.parameters(), lr=1e-2)\n",
    "loss_func = nn.MSELoss()\n",
    "for epoch in range(1001):\n",
    "    total = 0\n",
    "    for i,(wf,fields,) in enumerate(training_loader):\n",
    "        gs = model(fields)\n",
    "        \n",
    "        loss = loss_func(gs, wf)\n",
    "        \n",
    "        optimizer.zero_grad()\n",
    "        loss.backward()\n",
    "        optimizer.step()\n",
    "        total += loss.item()\n",
    "    if epoch % 10 == 0:\n",
    "        print(\"Epoch {} :\".format(epoch + 1), total / len(training_loader))"
   ]
  },
  {
   "cell_type": "code",
   "execution_count": 14,
   "metadata": {},
   "outputs": [
    {
     "name": "stdout",
     "output_type": "stream",
     "text": [
      "0.5532865592977032\n"
     ]
    }
   ],
   "source": [
    "total = 0\n",
    "with torch.no_grad():\n",
    "    for i,(wf,fields,) in enumerate(val_loader):\n",
    "        gs = model(fields)\n",
    "        loss = loss_func(gs, wf)\n",
    "        total += loss.item()\n",
    "    \n",
    "print(total)"
   ]
  },
  {
   "cell_type": "code",
   "execution_count": 15,
   "metadata": {},
   "outputs": [
    {
     "name": "stdout",
     "output_type": "stream",
     "text": [
      "Fields:\t tensor([1.0000, 0.1694, 0.0100])\n",
      "Wavefunction:\t tensor([0.9501, 0.0525, 0.0525, 0.3030])\n",
      "Reconstructed:\t tensor([0.9532, 0.0537, 0.0537, 0.2927])\n",
      "********************************************************************************\n",
      "Fields:\t tensor([1.0000, 0.1714, 0.0100])\n",
      "Wavefunction:\t tensor([0.9483, 0.0533, 0.0533, 0.3082])\n",
      "Reconstructed:\t tensor([0.9528, 0.0541, 0.0541, 0.2938])\n",
      "********************************************************************************\n",
      "Fields:\t tensor([1.0000, 0.1733, 0.0100])\n",
      "Wavefunction:\t tensor([0.9465, 0.0541, 0.0541, 0.3134])\n",
      "Reconstructed:\t tensor([0.9524, 0.0546, 0.0546, 0.2949])\n",
      "********************************************************************************\n",
      "Fields:\t tensor([1.0000, 0.1753, 0.0100])\n",
      "Wavefunction:\t tensor([0.9447, 0.0548, 0.0548, 0.3186])\n",
      "Reconstructed:\t tensor([0.9520, 0.0550, 0.0550, 0.2961])\n",
      "********************************************************************************\n",
      "Fields:\t tensor([1.0000, 0.1773, 0.0100])\n",
      "Wavefunction:\t tensor([0.9429, 0.0556, 0.0556, 0.3236])\n",
      "Reconstructed:\t tensor([0.9516, 0.0555, 0.0555, 0.2972])\n",
      "********************************************************************************\n",
      "Fields:\t tensor([1.0000, 0.1793, 0.0100])\n",
      "Wavefunction:\t tensor([0.9411, 0.0563, 0.0563, 0.3287])\n",
      "Reconstructed:\t tensor([0.9512, 0.0560, 0.0560, 0.2983])\n",
      "********************************************************************************\n",
      "Fields:\t tensor([1.0000, 0.1813, 0.0100])\n",
      "Wavefunction:\t tensor([0.9392, 0.0571, 0.0571, 0.3337])\n",
      "Reconstructed:\t tensor([0.9508, 0.0564, 0.0564, 0.2995])\n",
      "********************************************************************************\n",
      "Fields:\t tensor([1.0000, 0.1833, 0.0100])\n",
      "Wavefunction:\t tensor([0.9373, 0.0579, 0.0579, 0.3387])\n",
      "Reconstructed:\t tensor([0.9504, 0.0569, 0.0569, 0.3006])\n",
      "********************************************************************************\n",
      "Fields:\t tensor([1.0000, 0.1853, 0.0100])\n",
      "Wavefunction:\t tensor([0.9355, 0.0586, 0.0586, 0.3436])\n",
      "Reconstructed:\t tensor([0.9499, 0.0574, 0.0574, 0.3017])\n",
      "********************************************************************************\n",
      "Fields:\t tensor([1.0000, 0.1873, 0.0100])\n",
      "Wavefunction:\t tensor([0.9336, 0.0594, 0.0594, 0.3485])\n",
      "Reconstructed:\t tensor([0.9495, 0.0578, 0.0578, 0.3029])\n",
      "********************************************************************************\n"
     ]
    }
   ],
   "source": [
    "with torch.no_grad():\n",
    "    for i,(wf, fields,) in enumerate(val_loader):\n",
    "        gs = model(fields)\n",
    "        for j in range(10):\n",
    "            print(\"Fields:\\t\", fields[j])\n",
    "            print(\"Wavefunction:\\t\", wf[j].data) \n",
    "            print(\"Reconstructed:\\t\", gs[j])\n",
    "            print(\"*\"*80)\n",
    "        break"
   ]
  },
  {
   "cell_type": "code",
   "execution_count": null,
   "metadata": {},
   "outputs": [],
   "source": []
  }
 ],
 "metadata": {
  "kernelspec": {
   "display_name": "Python 3",
   "language": "python",
   "name": "python3"
  },
  "language_info": {
   "codemirror_mode": {
    "name": "ipython",
    "version": 3
   },
   "file_extension": ".py",
   "mimetype": "text/x-python",
   "name": "python",
   "nbconvert_exporter": "python",
   "pygments_lexer": "ipython3",
   "version": "3.7.3"
  }
 },
 "nbformat": 4,
 "nbformat_minor": 4
}
