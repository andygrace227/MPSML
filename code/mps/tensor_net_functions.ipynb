{
 "cells": [
  {
   "cell_type": "code",
   "execution_count": 1,
   "id": "a2c9dcc5-eff2-4652-9105-4ff25d515317",
   "metadata": {},
   "outputs": [
    {
     "name": "stderr",
     "output_type": "stream",
     "text": [
      "/home/jszacha1/.local/lib/python3.6/site-packages/tensorflow/python/framework/dtypes.py:516: FutureWarning: Passing (type, 1) or '1type' as a synonym of type is deprecated; in a future version of numpy, it will be understood as (type, (1,)) / '(1,)type'.\n",
      "  _np_qint8 = np.dtype([(\"qint8\", np.int8, 1)])\n",
      "/home/jszacha1/.local/lib/python3.6/site-packages/tensorflow/python/framework/dtypes.py:517: FutureWarning: Passing (type, 1) or '1type' as a synonym of type is deprecated; in a future version of numpy, it will be understood as (type, (1,)) / '(1,)type'.\n",
      "  _np_quint8 = np.dtype([(\"quint8\", np.uint8, 1)])\n",
      "/home/jszacha1/.local/lib/python3.6/site-packages/tensorflow/python/framework/dtypes.py:518: FutureWarning: Passing (type, 1) or '1type' as a synonym of type is deprecated; in a future version of numpy, it will be understood as (type, (1,)) / '(1,)type'.\n",
      "  _np_qint16 = np.dtype([(\"qint16\", np.int16, 1)])\n",
      "/home/jszacha1/.local/lib/python3.6/site-packages/tensorflow/python/framework/dtypes.py:519: FutureWarning: Passing (type, 1) or '1type' as a synonym of type is deprecated; in a future version of numpy, it will be understood as (type, (1,)) / '(1,)type'.\n",
      "  _np_quint16 = np.dtype([(\"quint16\", np.uint16, 1)])\n",
      "/home/jszacha1/.local/lib/python3.6/site-packages/tensorflow/python/framework/dtypes.py:520: FutureWarning: Passing (type, 1) or '1type' as a synonym of type is deprecated; in a future version of numpy, it will be understood as (type, (1,)) / '(1,)type'.\n",
      "  _np_qint32 = np.dtype([(\"qint32\", np.int32, 1)])\n",
      "/home/jszacha1/.local/lib/python3.6/site-packages/tensorflow/python/framework/dtypes.py:525: FutureWarning: Passing (type, 1) or '1type' as a synonym of type is deprecated; in a future version of numpy, it will be understood as (type, (1,)) / '(1,)type'.\n",
      "  np_resource = np.dtype([(\"resource\", np.ubyte, 1)])\n",
      "/home/jszacha1/.local/lib/python3.6/site-packages/tensorboard/compat/tensorflow_stub/dtypes.py:541: FutureWarning: Passing (type, 1) or '1type' as a synonym of type is deprecated; in a future version of numpy, it will be understood as (type, (1,)) / '(1,)type'.\n",
      "  _np_qint8 = np.dtype([(\"qint8\", np.int8, 1)])\n",
      "/home/jszacha1/.local/lib/python3.6/site-packages/tensorboard/compat/tensorflow_stub/dtypes.py:542: FutureWarning: Passing (type, 1) or '1type' as a synonym of type is deprecated; in a future version of numpy, it will be understood as (type, (1,)) / '(1,)type'.\n",
      "  _np_quint8 = np.dtype([(\"quint8\", np.uint8, 1)])\n",
      "/home/jszacha1/.local/lib/python3.6/site-packages/tensorboard/compat/tensorflow_stub/dtypes.py:543: FutureWarning: Passing (type, 1) or '1type' as a synonym of type is deprecated; in a future version of numpy, it will be understood as (type, (1,)) / '(1,)type'.\n",
      "  _np_qint16 = np.dtype([(\"qint16\", np.int16, 1)])\n",
      "/home/jszacha1/.local/lib/python3.6/site-packages/tensorboard/compat/tensorflow_stub/dtypes.py:544: FutureWarning: Passing (type, 1) or '1type' as a synonym of type is deprecated; in a future version of numpy, it will be understood as (type, (1,)) / '(1,)type'.\n",
      "  _np_quint16 = np.dtype([(\"quint16\", np.uint16, 1)])\n",
      "/home/jszacha1/.local/lib/python3.6/site-packages/tensorboard/compat/tensorflow_stub/dtypes.py:545: FutureWarning: Passing (type, 1) or '1type' as a synonym of type is deprecated; in a future version of numpy, it will be understood as (type, (1,)) / '(1,)type'.\n",
      "  _np_qint32 = np.dtype([(\"qint32\", np.int32, 1)])\n",
      "/home/jszacha1/.local/lib/python3.6/site-packages/tensorboard/compat/tensorflow_stub/dtypes.py:550: FutureWarning: Passing (type, 1) or '1type' as a synonym of type is deprecated; in a future version of numpy, it will be understood as (type, (1,)) / '(1,)type'.\n",
      "  np_resource = np.dtype([(\"resource\", np.ubyte, 1)])\n"
     ]
    }
   ],
   "source": [
    "import tensorflow as tf\n",
    "import numpy as np \n",
    "import torch\n",
    "import random"
   ]
  },
  {
   "cell_type": "code",
   "execution_count": 25,
   "id": "22be42a6-cc4e-4940-854c-5eecb78dcc10",
   "metadata": {},
   "outputs": [],
   "source": [
    "def uniform_random(n, samples):\n",
    "    indices = [0 for i in range(samples)]\n",
    "    for i in range (samples):\n",
    "        indis[i] = random.randint(int(i*2**(n*n)/samples), int((i+1)*2**(n*n)/samples))\n",
    "    return indis\n"
   ]
  },
  {
   "cell_type": "code",
   "execution_count": 26,
   "id": "fe5e4c76-837b-4e92-aace-0ace816df2b3",
   "metadata": {},
   "outputs": [],
   "source": [
    "def indices ( num_indices , _range ):\n",
    "    _list = [[]]\n",
    "    return ( _index_gen_helper ( num_indices , _range , _list ))\n",
    "def _index_gen_helper ( num_indices , _range , _list ):\n",
    "    _ret = []\n",
    "\n",
    "    for i in _list :\n",
    "        for j in range ( _range ):\n",
    "            _temp = i. copy ()\n",
    "            _temp . extend ([ j ])\n",
    "            _ret . append ( _temp )\n",
    "    if num_indices == 1:\n",
    "        return _ret\n",
    "    else :\n",
    "        return _index_gen_helper ( num_indices -1 , _range , _ret )"
   ]
  },
  {
   "cell_type": "code",
   "execution_count": 52,
   "id": "11e92fe9-df57-4b85-b255-a3d15a5b43bf",
   "metadata": {},
   "outputs": [
    {
     "name": "stdout",
     "output_type": "stream",
     "text": [
      "[0, 0, 1, 0, 1]\n"
     ]
    }
   ],
   "source": [
    "def instant_indices(num_independent_indices, i):\n",
    "    inds=[0 for i in range (num_independent_indices)]\n",
    "    for j in range (0, num_independent_indices):\n",
    "        inds[j] = i%2\n",
    "        i//=2\n",
    "    return inds\n",
    "\n",
    "print(instant_indices(5,20))"
   ]
  },
  {
   "cell_type": "code",
   "execution_count": 36,
   "id": "a9171693-6048-42c0-a34b-81a66ec3d9c7",
   "metadata": {},
   "outputs": [
    {
     "data": {
      "text/plain": [
       "'\"\\nA = [[0 for i in range(2)]]*2\\nB = [[0 for i in range(2)]]*2\\n\\nfor i in range (2):\\n    for j in range(2):\\n        A[i][j]=torch.rand((2,2,2,2))\\n        B[i][j]=torch.rand((2,2,2,2))\\nprint(net_2x2(A,B))\\n'"
      ]
     },
     "execution_count": 36,
     "metadata": {},
     "output_type": "execute_result"
    }
   ],
   "source": [
    "#A and B are the spin up and spin down tensor networks\n",
    "def net_2x2(A, B):\n",
    "    AB=[A,B]\n",
    "    C = [0 for i in range (2**4)]\n",
    "    count=0\n",
    "    for i ,j ,k ,l in indices(4,2):  \n",
    "        C[count]=torch.einsum('ijab, jicd, klba, lkdc', AB[i][0][0], AB[j][0][1], AB[k][1][0], AB[l][1][1])\n",
    "        count+=1\n",
    "    return C\n",
    "\n",
    "# A = [[0 for i in range(2)]]*2\n",
    "# B = [[0 for i in range(2)]]*2\n",
    "\n",
    "# for i in range (2):\n",
    "#     for j in range(2):\n",
    "#         A[i][j]=torch.rand((2,2,2,2))\n",
    "#         B[i][j]=torch.rand((2,2,2,2))\n",
    "# print(net_2x2(A,B))\n"
   ]
  },
  {
   "cell_type": "code",
   "execution_count": 37,
   "id": "411f62eb-9830-4133-beac-12d22ea77feb",
   "metadata": {},
   "outputs": [
    {
     "data": {
      "text/plain": [
       "'\\nA = [[0 for i in range(3)]]*3\\nB = [[0 for i in range(3)]]*3\\n        \\nfor i in range (3):\\n    for j in range(3):\\n        A[i][j]=torch.rand((2,2,2,2))\\n        B[i][j]=torch.rand((2,2,2,2))\\nprint(net_3x3(A,B))\\n'"
      ]
     },
     "execution_count": 37,
     "metadata": {},
     "output_type": "execute_result"
    }
   ],
   "source": [
    "def net_3x3(A,B):\n",
    "    AB=[A,B]\n",
    "    C = [0 for i in range (2**9)]\n",
    "    count=0\n",
    "    for i ,j ,k ,l ,m ,n ,o ,p ,q in indices(9, 2):    \n",
    "        C[count]=torch.einsum('abjk, camn, bcpq, delj, fdom, efrp, ghkl, igno, hiqr', AB[i][0][0], AB[j][0][1], AB[k][0][2], AB[l][1][0], AB[m][1][1], AB[n][1][2], AB[o][2][0], AB[p][2][1], AB[q][2][2])\n",
    "        count+=1\n",
    "    return C\n",
    "\n",
    "\n",
    "# A = [[0 for i in range(3)]]*3\n",
    "# B = [[0 for i in range(3)]]*3\n",
    "        \n",
    "# for i in range (3):\n",
    "#     for j in range(3):\n",
    "#         A[i][j]=torch.rand((2,2,2,2))\n",
    "#         B[i][j]=torch.rand((2,2,2,2))\n",
    "# print(net_3x3(A,B))\n"
   ]
  },
  {
   "cell_type": "code",
   "execution_count": 48,
   "id": "4776430c-93e3-4b69-b9cd-aa9068e6fbad",
   "metadata": {},
   "outputs": [],
   "source": [
    "def net_4x4(A,B, samples):\n",
    "    AB=[A,B]\n",
    "    C = [0 for i in range (samples)]\n",
    "    count=0\n",
    "    indis = uniform_random(4, samples)\n",
    "    for i in (indis):\n",
    "        CI = instant_indices(16,i) #current index\n",
    "        X = torch.einsum('abeh, cail, dcmp, bdqt-> ehilmpqt', AB[CI[0]][0][0], AB[CI[1]][0][1], AB[CI[2]][0][2], AB[CI[3]][0][3])\n",
    "        Y = torch.einsum('abfe, caji, dcnm, bdrq-> fejinmrq', AB[CI[4]][1][0], AB[CI[5]][1][1], AB[CI[6]][1][2], AB[CI[7]][1][3])\n",
    "        Z = torch.einsum('abgf, cakj, dcon, bdsr-> gfkjonsr', AB[CI[8]][2][0], AB[CI[9]][2][1], AB[CI[10]][2][2], AB[CI[11]][2][3])\n",
    "        W = torch.einsum('abhg, calk, dcpo, bdts-> hglkpots', AB[CI[12]][3][0], AB[CI[13]][3][1], AB[CI[13]][3][2], AB[CI[13]][3][3])\n",
    "        C[count] = torch.einsum('ehilmpqt, fejinmrq, gfkjonsr, hglkpots', X, Y, Z, W)\n",
    "        count+=1\n",
    "    return C\n",
    "\n",
    "# A = [[0 for i in range(4)]]*4\n",
    "# B = [[0 for i in range(4)]]*4\n",
    "        \n",
    "# for i in range (4):\n",
    "#     for j in range(4):\n",
    "#         A[i][j]=torch.rand((2,2,2,2))\n",
    "#         B[i][j]=torch.rand((2,2,2,2))\n",
    "# print(net_4x4(A,B,100))"
   ]
  },
  {
   "cell_type": "code",
   "execution_count": 54,
   "id": "865fbc1e-8f06-4506-ace0-2ac0d3575602",
   "metadata": {},
   "outputs": [],
   "source": [
    "def net_5x5(A,B, samples):\n",
    "    AB=[A,B]\n",
    "    C = [0 for i in range (samples)]\n",
    "    count=0\n",
    "    indis = uniform_random(5, samples)\n",
    "    for i in (indis):\n",
    "        CI = instant_indices(25,i) #current index\n",
    "        X = torch.einsum('abfg, cahi, dcjk, edlm, beno -> fghijklmno', AB[CI[0]][0][0], AB[CI[1]][0][1], AB[CI[2]][0][2], AB[CI[3]][0][3], AB[CI[4]][0][4]) \n",
    "        Y = torch.einsum('abpf, caqh, dcrj, edsl, betn -> pfqhrjsltn', AB[CI[5]][1][0], AB[CI[6]][1][1], AB[CI[7]][1][2], AB[CI[8]][1][3], AB[CI[9]][1][4])\n",
    "        XY = torch.einsum('fghijklmno, pfqhrjsltn -> gpiqkrmson', X, Y)\n",
    "        Z = torch.einsum('abfp, cahq, dcjr, edls, bent -> fphqjrlsnt' , AB[CI[10]][2][0], AB[CI[11]][2][1], AB[CI[12]][2][2], AB[CI[13]][2][3], AB[CI[14]][2][4])\n",
    "        XYZ = torch.einsum('gpiqkrmson, fphqjrlsnt -> gfihkjmlon', XY, Z)\n",
    "        U = torch.einsum('abpf, caqh, dcrj, edsl, betn -> pfqhrjsltn', AB[CI[15]][3][0], AB[CI[16]][3][1], AB[CI[17]][3][2], AB[CI[18]][3][3], AB[CI[19]][3][4])\n",
    "        XYZU = torch.einsum('gfihkjmlon, pfqhrjsltn -> gpiqkrmsot', XYZ, U)\n",
    "        V = torch.einsum('abgp, caiq, dckr, edms, beot -> gpiqkrmsot', AB[CI[20]][4][0], AB[CI[21]][4][1], AB[CI[22]][4][2], AB[CI[23]][4][3], AB[CI[24]][4][4])\n",
    "        C[count] = torch.einsum('gpiqkrmsot, gpiqkrmsot', XYZU, V)\n",
    "        count+=1\n",
    "    return C    \n",
    "\n",
    "# A = [[0 for i in range(5)]]*5\n",
    "# B = [[0 for i in range(5)]]*5\n",
    "        \n",
    "# for i in range (5):\n",
    "#     for j in range(5):\n",
    "#         A[i][j]=torch.rand((2,2,2,2))\n",
    "#         B[i][j]=torch.rand((2,2,2,2))\n",
    "# print(net_5x5(A,B,100))\n",
    "    "
   ]
  },
  {
   "cell_type": "code",
   "execution_count": 56,
   "id": "bde09333-b699-4b32-8aa1-368b4ca56162",
   "metadata": {},
   "outputs": [],
   "source": [
    "def net_6x6(A,B, samples):\n",
    "    AB=[A,B]\n",
    "    C = [0 for i in range (samples)]\n",
    "    count=0\n",
    "    indis = uniform_random(6, samples)\n",
    "    for i in (indis):\n",
    "        CI = instant_indices(36,i) #current index\n",
    "        X = torch.einsum('abnh, caoi, dcpj, edqk, ferl, bfsm -> nhoipjqkrlsm', AB[CI[0]][0][0], AB[CI[1]][0][1], AB[CI[2]][0][2], AB[CI[3]][0][3], AB[CI[4]][0][4], AB[CI[5]][0][5]) \n",
    "        Y = torch.einsum('abtn, cauo, dcvp, edwq, fexr, bfys -> tnuovpwqxrys', AB[CI[6]][1][0], AB[CI[7]][1][1], AB[CI[8]][1][2], AB[CI[9]][1][3], AB[CI[10]][1][4], AB[CI[11]][1][5])\n",
    "        XY = torch.einsum('nhoipjqkrlsm, tnuovpwqxrys -> htiujvkwlxmy', X, Y)\n",
    "        Z = torch.einsum('abnt, caou, dcpv, edqw, ferx, bfsy -> ntoupvqwrxsy', AB[CI[12]][2][0], AB[CI[13]][2][1], AB[CI[14]][2][2], AB[CI[15]][2][3], AB[CI[16]][2][4], AB[CI[17]][2][5])\n",
    "        XYZ = torch.einsum('htiujvkwlxmy, ntoupvqwrxsy -> hniojpkqlrms', XY, Z)\n",
    "        U = torch.einsum('abtn, cauo, dcvp, edwq, fexr, bfys -> tnuovpwqxrys', AB[CI[18]][3][0], AB[CI[19]][3][1], AB[CI[20]][3][2], AB[CI[21]][3][3], AB[CI[22]][3][4], AB[CI[23]][3][5])\n",
    "        XYZU = torch.einsum('hniojpkqlrms, tnuovpwqxrys -> htiujvkwlxmy', XYZ, U)\n",
    "        V = torch.einsum('abnt, caou, dcpv, edqw, ferx, bfsy -> ntoupvqwrxsy', AB[CI[24]][4][0], AB[CI[25]][4][1], AB[CI[26]][4][2], AB[CI[27]][4][3], AB[CI[28]][4][4], AB[CI[29]][4][5])\n",
    "        XYZUV = torch.einsum('htiujvkwlxmy, ntoupvqwrxsy -> hniojpkqlrms', XYZU, V)\n",
    "        W = torch.einsum('abhn, caio, dcjp, edkq, felr, bfms -> hniojpkqlrms', AB[CI[30]][5][0], AB[CI[31]][5][1], AB[CI[32]][5][2], AB[CI[33]][5][3], AB[CI[34]][5][4], AB[CI[35]][5][5])\n",
    "        C[count] = torch.einsum('hniojpkqlrms, hniojpkqlrms', XYZUV, W)\n",
    "        count+=1\n",
    "    return C\n",
    "\n",
    "# A = [[0 for i in range(6)]]*6\n",
    "# B = [[0 for i in range(6)]]*6\n",
    "        \n",
    "# for i in range (6):\n",
    "#     for j in range(6):\n",
    "#         A[i][j]=torch.rand((2,2,2,2))\n",
    "#         B[i][j]=torch.rand((2,2,2,2))\n",
    "# print(net_6x6(A,B,100))"
   ]
  },
  {
   "cell_type": "code",
   "execution_count": null,
   "id": "f91c271e-9daa-4428-b195-c9a5a01d8ac4",
   "metadata": {},
   "outputs": [],
   "source": []
  }
 ],
 "metadata": {
  "kernelspec": {
   "display_name": "Python 3",
   "language": "python",
   "name": "python3"
  },
  "language_info": {
   "codemirror_mode": {
    "name": "ipython",
    "version": 3
   },
   "file_extension": ".py",
   "mimetype": "text/x-python",
   "name": "python",
   "nbconvert_exporter": "python",
   "pygments_lexer": "ipython3",
   "version": "3.6.9"
  }
 },
 "nbformat": 4,
 "nbformat_minor": 5
}
